{
  "cells": [
    {
      "cell_type": "code",
      "execution_count": null,
      "metadata": {
        "colab": {
          "base_uri": "https://localhost:8080/"
        },
        "id": "rjlwBtuT452A",
        "outputId": "34033c1c-8cf2-40dc-f9da-4b04ad9da9b9"
      },
      "outputs": [
        {
          "name": "stdout",
          "output_type": "stream",
          "text": [
            "Drive already mounted at /content/drive; to attempt to forcibly remount, call drive.mount(\"/content/drive\", force_remount=True).\n"
          ]
        }
      ],
      "source": [
        "#run\n",
        "from google.colab import drive    \n",
        "drive.mount('/content/drive')"
      ]
    },
    {
      "cell_type": "code",
      "execution_count": null,
      "metadata": {
        "colab": {
          "base_uri": "https://localhost:8080/"
        },
        "id": "7DbLhnbF5Lpj",
        "outputId": "d94fd943-b6d5-4bf2-c9ef-c0cfbfc980a3"
      },
      "outputs": [
        {
          "name": "stdout",
          "output_type": "stream",
          "text": [
            "Looking in indexes: https://pypi.org/simple, https://us-python.pkg.dev/colab-wheels/public/simple/\n",
            "Requirement already satisfied: spafe in /usr/local/lib/python3.7/dist-packages (0.1.2)\n",
            "Requirement already satisfied: scipy>=1.3.1 in /usr/local/lib/python3.7/dist-packages (from spafe) (1.4.1)\n",
            "Requirement already satisfied: numpy>=1.17.2 in /usr/local/lib/python3.7/dist-packages (from spafe) (1.21.6)\n"
          ]
        }
      ],
      "source": [
        "#run\n",
        "!pip install -U spafe"
      ]
    },
    {
      "cell_type": "code",
      "execution_count": null,
      "metadata": {
        "id": "8TmZS7Yh5SZc"
      },
      "outputs": [],
      "source": [
        "#run\n",
        "import pandas as pd\n",
        "import os\n",
        "import librosa\n",
        "import librosa.display\n",
        "import numpy as np\n",
        "import IPython.display as ipd\n",
        "import matplotlib.pyplot as plt\n",
        "%matplotlib inline"
      ]
    },
    {
      "cell_type": "code",
      "execution_count": null,
      "metadata": {
        "colab": {
          "base_uri": "https://localhost:8080/"
        },
        "id": "ylUEZ33d5LsA",
        "outputId": "8c4595b6-babf-49ab-d971-3aa7efc707bb"
      },
      "outputs": [
        {
          "name": "stdout",
          "output_type": "stream",
          "text": [
            "['1.16_audio.childrendance_2_10.wav', '1.16_audio.nature_13_3.wav', '1.16_audio.childrendance_1_7.wav', '1.40_audio.boxing_3_2.wav', '1.24_audio.music_21_1.wav', '1.28_audio.childrendance_2_1.wav', '2.28_audio.train_2_6.wav', '2.32_audio.train_2_8.wav', '1.16_audio.tunnel_4.wav', '1.24_audio.walkway_1_3.wav', '1.32_audio.street_show_1_7.wav', '1.20_audio.exercise_1_4.wav', '1.24_audio.music_83_9.wav', '1.24_audio.music_31_7.wav', '1.24_audio.street_show_2_1.wav', '1.20_audio.car_1_10.wav', '1.36_audio.wine_1_7.wav', '1.08_audio.music_12_7.wav', '1.24_audio.boxing_1_7.wav', '1.12_audio.interview_111_1.wav', '1.08_audio.desert_bike_6.wav', '1.24_audio.childrendance_1_1.wav', '1.24_audio.bull_2_1.wav', '1.16_audio.song_org_2_3.wav', '2.24_audio.boat_1_7.wav', '1.24_audio.train_1_9.wav', '1.16_audio.music_31_10.wav', '1.36_audio.boxing_1_8.wav', '1.32_audio.interview_81_10.wav', '1.16_audio.music_31_9.wav', '1.24_audio.animation_72_10.wav', '1.16_audio.animation92_4.wav', '1.16_audio.music_61_1.wav', '1.24_audio.sports1_6.wav', '1.24_audio.music_52_7.wav', '1.32_audio.sports1_5.wav', '1.41_audio.animation_1_9.wav', '1.36_audio.child_playing1_9.wav', '1.16_audio.home_video3_10.wav', '1.16_audio.boxing_2_7.wav', '1.24_audio.bike_22_7.wav', '1.24_audio.sports1_10.wav', '1.79_audio.interview_81_4.wav', '1.36_audio.animation_9_6.wav', '1.32_audio.tunnel_6.wav', '1.20_audio.dive_6.wav', '1.08_audio.animation_2_1.wav', '1.41_audio.music_71_4.wav', '1.16_audio.nature_13_2.wav', '1.32_audio.chair_basketball_1.wav', '1.32_audio.music_83_4.wav', '1.08_audio.interview_51_4.wav', '1.40_audio.interview_42_3.wav', '1.08_audio.bike_10.wav', '1.16_audio.nature_192_4.wav', '1.08_audio.streetwalk_1_4.wav', '1.24_audio.animation_9_4.wav', '1.40_audio.song_org_3_2.wav', '1.24_audio.animation_2_10.wav', '1.16_audio.tunnel_1.wav', '1.16_audio.news_2_1.wav', '1.16_audio.animation_230_9.wav', '1.16_audio.walkway_1_8.wav', '1.24_audio.music_31_1.wav', '1.08_audio.ship_1_8.wav', '1.36_audio.dance_91_6.wav', '1.32_audio.song_org_2_2.wav', '1.20_audio.home_video_5_9.wav', '1.22_audio.nature_org13_1.wav', '3.22_audio.nature_5_2.wav', '4.89_audio.nature_org5.wav', '3.48_audio.nature_5_3.wav', '1.68_audio.nature_5_5.wav', '3.81_audio.nature_5_7.wav', '4.26_audio.nature_5_9.wav', '3.30_audio.boy_dance_3_11.wav', '3.65_audio.animation_92_1_13.wav', '4.42_audio.group_song_1_15.wav', '4.15_audio.field_2_15.wav', '3.61_audio.car_1_15.wav', '4.69_audio.travel_2_1_15.wav', '3.11_audio.song_2_1_15.wav', '4.46_audio.boxing_3_1_15.wav', '4.42_audio.boy_speaking_1_15.wav', '3.65_audio.interview_11_15.wav', '3.42_audio.chair_basketball_15.wav', '3.88_audio.travel_5_1_15.wav', '4.23_audio.song_1_15.wav', '4.46_audio.recipe_1_15.wav', '4.30_audio.boy_dance_2_1_15.wav', '4.53_audio.girl_interview_2_1_15.wav', '2.88_audio.dance_group_1_15.wav', '3.92_audio.animation_1_1_15.wav', '3.84_audio.girl_interview_2_2_15.wav', '3.53_audio.animation_92_1_15.wav', '3.26_audio.girl_nature_1_1_15.wav', '4.38_audio.group_song_1_1_15.wav', '3.46_audio.animation_1_2_15.wav', '3.26_audio.agriculture_1_15.wav', '4.30_audio.girl_interview_1_1_15.wav', '4.23_audio.travel_11_2_15.wav', '4.53_audio.girl_talking_2_1_15.wav', '4.23_audio.snow_2_1_15.wav', '3.61_audio.girl_interview__3_15.wav', '4.57_audio.travel_2_15.wav', '4.34_audio.nature_11_2_15.wav', '4.46_audio.travel_10_1_15.wav', '3.61_audio.music_2_2_15.wav', '4.73_audio.travel_5_15.wav', '4.57_audio.travel_10_15.wav', '4.46_audio.news__1_15.wav', '4.15_audio.agriculture__2_15.wav', '4.30_audio.interview_42_15.wav', '3.61_audio.song__1_1_15.wav', '3.69_audio.woman_talking_1_15.wav', '4.46_audio.travel_11_1_15.wav', '4.38_audio.guitar_4_15.wav', '4.61_audio.animation_9_1_15.wav', '4.46_audio.travel_8_15.wav', '3.69_audio.animation_2_1_11.wav', '2.61_audio.woman_talking_1_11.wav', '3.92_audio.guitar_4_11.wav', '1.57_audio.travel_8_2_12.wav', '2.18_audio.girl_interview_2_12.wav', '4.14_audio.chair_basketball_12.wav', '2.11_audio.girl_interview_2_1_12.wav', '2.65_audio.recipe_1_12.wav', '2.57_audio.animation_1_1_11.wav', '3.11_audio.animation_92_1_11.wav', '2.03_audio.animation_1_2_11.wav', '3.95_audio.dance_group__1_1_11.wav', '2.34_audio.animation_3_1_11.wav', '2.65_audio.group_song_1_1_11.wav', '2.03_audio.agriculture_1_11.wav', '2.46_audio.girl_interview_1_1_11.wav', '3.23_audio.boy_dance_4_1_11.wav', '3.23_audio.childrendance_2_11.wav', '2.57_audio.snow_2_1_11.wav', '3.61_audio.travel_10_11.wav', '2.30_audio.interview_42_11.wav', '2.26_audio.travel_2_2_11.wav', '1.69_audio.travel_8_1_11.wav', '4.11_audio.field_2_14.wav', '1.23_audio.car_1_14.wav', '1.84_audio.interview_52_14.wav', '1.57_audio.travel_2_1_14.wav', '4.11_audio.travel_5_2_14.wav', '1.23_audio.song_2_1_14.wav', '2.69_audio.boxing_3_1_14.wav', '1.42_audio.travel_8_2_14.wav', '2.96_audio.streetwalk_1_14.wav', '1.30_audio.travel_13_1_14.wav', '4.07_audio.interview_11_14.wav', '2.65_audio.travel_7_1_14.wav', '3.65_audio.boy_speaking_1_14.wav', '2.07_audio.girl_interview_2_14.wav', '2.42_audio.recipe_1_14.wav', '2.11_audio.chair_basketball_14.wav', '3.23_audio.travel_5_1_14.wav', '2.26_audio.girl_interview_2_1_14.wav', '1.07_audio.boy_dance_2_1_14_14.wav', '1.11_audio.song_1_14.wav', '2.96_audio.girl_interview_2_2_13.wav', '2.53_audio.animation_1_1_13.wav', '2.15_audio.dance_group_1_13.wav', '1.80_audio.animation_7_2_13.wav', '1.38_audio.dance_group_1_1_13.wav', '2.92_audio.girl_nature_1_1_13.wav', '2.96_audio.boy_dance_3_13.wav', '1.57_audio.animation_1_2_13.wav', '4.19_audio.animation_3_1_13.wav', '3.30_audio.agriculture_1_13.wav', '3.53_audio.boy_dance_4_1_13.wav', '3.19_audio.girl_interview_1_1_13.wav', '3.23_audio.travel_11_2_13.wav', '3.23_audio.snow_2_1_13.wav', '2.26_audio.childrendance_2_13.wav', '3.34_audio.girl_interview__3_14.wav', '3.26_audio.travel_10_14.wav', '3.84_audio.song__4_1_14.wav', '3.53_audio.news__1_14.wav', '3.38_audio.agriculture__2_14.wav', '3.46_audio.travel_2_2_14.wav', '4.57_audio.travel_13_14.wav', '3.69_audio.song__1_1_14.wav', '3.53_audio.guitar_5_14.wav', '3.38_audio.song_2_1_16.wav', '2.53_audio.travel_8_2_16.wav', '1.73_audio.travel_7_1_16.wav', '3.65_audio.streetwalk_1_16.wav', '3.15_audio.travel_13_1_16.wav', '2.38_audio.chair_basketball_16.wav', '3.15_audio.girl_interview_2_16.wav', '1.57_audio.song_1_16.wav', '3.46_audio.boy_dance_2_1_16.wav', '3.61_audio.recipe_1_16.wav', '3.46_audio.girl_interview_2_1_16.wav', '2.46_audio.dance_group_1_14.wav', '3.53_audio.animation_1_1_14.wav', '3.76_audio.girl_interview_2_2_14.wav', '2.76_audio.dance_group_1_1_14.wav', '1.53_audio.animation_1_2_14.wav', '4.34_audio.girl_nature_1_1_14.wav', '3.15_audio.group_song_1_1_14.wav', '3.73_audio.boy_dance_4_1_14.wav', '2.84_audio.girl_interview__3_12.wav', '2.53_audio.nature_11_2_12.wav', '2.38_audio.travel_11_12.wav', '2.46_audio.nature_7_2_12.wav', '1.26_audio.song__4_1_12.wav', '3.23_audio.travel_13_12.wav', '2.53_audio.song__1_1_12.wav', '3.30_audio.guitar_5_12.wav', '2.61_audio.travel_10_1_13.wav', '3.38_audio.travel_2_13.wav', '2.73_audio.girl_interview__3_13.wav', '2.53_audio.travel_10_13.wav', '2.46_audio.nature_11_2_13.wav', '3.84_audio.travel_11_13.wav', '1.80_audio.news__1_13.wav', '1.65_audio.song__4_1_13.wav', '2.65_audio.travel_2_2_13.wav', '1.80_audio.animation_2_1_13.wav', '2.69_audio.interview_41_13.wav', '2.46_audio.travel_11_1_13.wav', '1.46_audio.woman_talking_1_13.wav', '2.34_audio.guitar_4_13.wav', '3.34_audio.travel_8_13.wav', '2.53_audio.guitar_3_13.wav', '2.88_audio.animation_9_1_13.wav', '1.19_audio.interview_41_13.wav', '1.80_audio.guitar_3_13.wav', '2.38_audio.boxing_1_1_13.wav', '3.19_audio.animation_1_1_12.wav', '3.26_audio.girl_nature_1_1_12.wav', '2.69_audio.agriculture_1_12.wav', '2.61_audio.dance_group_1_1_12.wav', '3.26_audio.girls_song_12.wav', '2.65_audio.snow_2_1_12.wav', '3.46_audio.animation_2_1_12.wav', '2.23_audio.woman_talking_1_12.wav', '3.46_audio.guitar_3_12.wav', '3.38_audio.guitar_4_12.wav', '3.53_audio.animation_9_1_12.wav', '4.03_audio.implicitDist(404).wav', '2.23_audio.implicitDist(408).wav', '2.73_audio.implicitDist(407).wav', '3.84_audio.implicitDist(405).wav', '2.11_audio.implicitDist(406).wav', '4.46_audio.implicitDist(409).wav', '4.30_audio.implicitDist(400).wav', '4.26_audio.implicitDist(401).wav', '1.92_audio.implicitDist(403).wav', '2.53_audio.implicitDist(402).wav', '3.03_audio.11Output(18).wav', '3.11_audio.12Output(12).wav', '3.03_audio.12Output(32).wav', '4.73_audio.(22).wav', '4.26_audio.(7).wav', '4.26_audio.(4).wav', '4.80_audio.(6).wav', '4.96_audio.(10).wav', '4.30_audio.(19).wav', '4.96_audio.(5).wav', '4.96_audio.(14).wav', '4.46_audio.(18).wav', '4.96_audio.(13).wav', '3.80_audio.(16).wav', '4.96_audio.(3).wav', '4.92_audio.(2).wav', '4.42_audio.(8).wav', '4.96_audio.(1).wav', '4.96_audio.(12).wav', '4.30_audio.(99).wav', '4.76_audio.(15).wav', '4.73_audio.(32).wav', '4.84_audio.(25).wav', '4.15_audio.(42).wav', '4.92_audio.(11).wav', '3.96_audio.(50).wav', '4.73_audio.(31).wav', '4.30_audio.(40).wav', '4.30_audio.(54).wav', '4.92_audio.(69).wav', '4.61_audio.(21).wav', '4.96_audio.(56).wav', '4.92_audio.(9).wav', '4.34_audio.(34).wav', '4.69_audio.(24).wav', '4.76_audio.(52).wav', '4.84_audio.(58).wav', '4.92_audio.(43).wav', '3.53_audio.(62).wav', '4.76_audio.(27).wav', '4.76_audio.(26).wav', '4.73_audio.(65).wav', '4.92_audio.(33).wav', '4.80_audio.(39).wav', '3.96_audio.(53).wav', '3.88_audio.(37).wav', '4.84_audio.(29).wav', '4.76_audio.(17).wav', '4.57_audio.(23).wav', '4.92_audio.(20).wav', '3.65_audio.(61).wav', '4.88_audio.(28).wav', '4.61_audio.(51).wav', '4.88_audio.(30).wav', '4.30_audio.(47).wav', '4.61_audio.(44).wav', '4.76_audio.(76).wav', '4.92_audio.(70).wav', '3.57_audio.(78).wav', '4.38_audio.(48).wav', '4.38_audio.(100).wav', '4.96_audio.(104).wav', '4.69_audio.(66).wav', '4.53_audio.(95).wav', '4.92_audio.(72).wav', '4.88_audio.(71).wav', '4.80_audio.(64).wav', '4.88_audio.(75).wav', '4.80_audio.(63).wav', '3.57_audio.(83).wav', '4.53_audio.(67).wav', '4.92_audio.(87).wav', '4.88_audio.(79).wav', '4.92_audio.(57).wav', '4.73_audio.(60).wav', '4.73_audio.(93).wav', '4.92_audio.(55).wav', '4.80_audio.(41).wav', '4.88_audio.(82).wav', '4.92_audio.(86).wav', '4.42_audio.(97).wav', '4.88_audio.(81).wav', '3.80_audio.(59).wav', '4.84_audio.(77).wav', '4.92_audio.(88).wav', '4.61_audio.(103).wav', '4.73_audio.(90).wav', '4.61_audio.(84).wav', '4.69_audio.(94).wav', '4.88_audio.(85).wav', '4.53_audio.(68).wav', '4.92_audio.(89).wav', '4.88_audio.(73).wav', '4.84_audio.(80).wav', '4.23_audio.(96).wav', '4.80_audio.(74).wav', '4.76_audio.(101).wav', '4.53_audio.(98).wav', '4.84_audio.(102).wav', '3.03_audio.21Output(10).wav', '3.03_audio.22Output(15).wav', '2.46_audio.25Output(25).wav', '3.03_audio.31Output(15).wav', '2.46_audio.40Output(15).wav', '3.03_audio.42Output(10).wav', '3.03_audio.44Output(20).wav', '2.46_audio.50Output(20).wav', '1.88_audio.50Output(30).wav', '3.03_audio.58Output(20).wav', '1.73_audio.62Output(30).wav', '3.03_audio.64Output(30).wav', '2.69_audio.70Output(20).wav', '2.69_audio.71Output(20).wav', '2.69_audio.73Output(25).wav', '2.69_audio.84Output(20).wav', '2.69_audio.84Output(30).wav', '2.69_audio.85Output(10).wav', '3.11_audio.87Output(10).wav', '2.69_audio.87Output(20).wav', '2.69_audio.87Output(30).wav', '3.11_audio.89Output(25).wav', '2.69_audio.90Output(25).wav', '2.53_audio.95Output(30).wav', '2.46_audio.96Output(30).wav', '2.53_audio.97Output(30).wav', '2.53_audio.98Output(25).wav', '3.07_audio.(1)_11.wav', '3.26_audio.(2)_11.wav', '4.19_audio.(4)_12.wav', '4.34_audio.(2)_12.wav', '3.42_audio.(3)_13.wav', '3.96_audio.(2)_13.wav', '3.96_audio.(5)_15.wav', '3.03_audio.(78)_11.wav', '3.03_audio.(74)_11.wav', '2.88_audio.(75)_11.wav', '2.84_audio.(72)_11.wav', '3.30_audio.(59)_11.wav', '3.26_audio.(71)_11.wav', '3.23_audio.(79)_11.wav', '2.03_audio.(61)_11.wav', '1.61_audio.(62)_12.wav', '3.53_audio.(64)_12.wav', '2.11_audio.(76)_12.wav', '1.57_audio.(78)_12.wav', '3.03_audio.(71)_12.wav', '3.26_audio.(74)_12.wav', '2.03_audio.(77)_12.wav', '2.96_audio.(73)_12.wav', '2.88_audio.(72)_12.wav', '3.57_audio.(59)_12.wav', '2.69_audio.(79)_12.wav', '1.30_audio.(61)_12.wav', '2.34_audio.(62)_13.wav', '3.53_audio.(63)_13.wav', '3.26_audio.(76)_13.wav', '3.65_audio.(73)_13.wav', '4.07_audio.(78)_14.wav', '4.34_audio.(75)_14.wav', '2.88_audio.(62)_14.wav', '4.46_audio.(71)_14.wav', '3.88_audio.(72)_14.wav', '4.23_audio.(79)_14.wav', '2.53_audio.(61)_14.wav', '2.53_audio.(76)_15.wav', '1.84_audio.(22)_11.wav', '1.57_audio.(21)_11.wav', '2.57_audio.(27)_12.wav', '2.19_audio.(25)_12.wav', '2.03_audio.(29)_12.wav', '2.42_audio.(22)_12.wav', '2.07_audio.(32)_12.wav', '1.80_audio.(31)_13.wav', '2.07_audio.(33)_13.wav', '2.23_audio.(27)_13.wav', '1.92_audio.(28)_13.wav', '3.69_audio.(39)_13.wav', '2.61_audio.(22)_13.wav', '1.53_audio.(26)_13.wav', '4.38_audio.(21)_13.wav', '3.15_audio.(25)_13.wav', '2.88_audio.(23)_13.wav', '2.42_audio.(22)_14.wav', '3.30_audio.(39)_14.wav', '2.57_audio.(34)_14.wav', '1.42_audio.(26)_14.wav', '3.73_audio.(21)_14.wav', '4.30_audio.(104)_12.wav', '3.57_audio.(85)_14.wav', '3.15_audio.(96)_14.wav', '1.46_audio.(57)_11.wav', '2.30_audio.(41)_11.wav', '1.53_audio.(44)_11.wav', '1.19_audio.(56)_11.wav', '2.15_audio.(47)_11.wav', '1.23_audio.(58)_11.wav', '1.38_audio.(55)_11.wav', '1.80_audio.(43)_11.wav', '1.46_audio.(48)_11.wav', '2.15_audio.(50)_11.wav', '1.73_audio.(51)_11.wav', '3.88_audio.(57)_13.wav', '3.26_audio.(41)_13.wav', '3.26_audio.(56)_13.wav', '4.34_audio.(55)_13.wav', '2.92_audio.(58)_13.wav', '2.65_audio.(51)_13.wav', '3.38_audio.(57)_14.wav', '1.65_audio.(57)_16.wav', '1.30_audio.(41)_16.wav', '1.23_audio.(58)_16.wav', '1.03_audio.(54)_16.wav', '1.34_audio.(55)_16.wav', '1.07_audio.(51)_16.wav', '1.34_audio.(56)_16.wav', '1.11_audio.(45)_16.wav', '1.19_audio.(98)_16.wav', '1.15_audio.(94)_16.wav', '1.38_audio.(100)_16.wav', '1.07_audio.(83)_16.wav', '1.23_audio.(93)_16.wav', '1.42_audio.(104)_16.wav', '1.19_audio.(101)_16.wav', '3.76_audio.(94)_17.wav', '3.34_audio.(98)_17.wav', '3.46_audio.(88)_17.wav', '3.34_audio.(83)_17.wav', '3.92_audio.(100)_17.wav', '3.57_audio.(95)_17.wav', '4.23_audio.(104)_17.wav', '3.07_audio.(85)_17.wav', '3.61_audio.(101)_17.wav', '3.46_audio.(90)_17.wav', '3.92_audio.(82)_17.wav', '3.38_audio.(84)_17.wav', '2.03_audio.implicitDist(120).wav', '2.30_audio.implicitDist(121).wav', '1.96_audio.implicitDist(122).wav', '1.53_audio.implicitDist(123).wav', '1.53_audio.implicitDist(111).wav', '1.11_audio.implicitDist(110).wav', '1.30_audio.implicitDist(190).wav', '1.26_audio.implicitDist(194).wav', '1.38_audio.implicitDist(191).wav', '1.46_audio.implicitDist(192).wav', '1.42_audio.implicitDist(193).wav', '1.26_audio.implicitDist(249).wav', '1.30_audio.implicitDist(248).wav', '1.57_audio.implicitDist(250).wav', '1.26_audio.implicitDist(106).wav', '1.23_audio.implicitDist(102).wav', '2.03_audio.implicitDist(103).wav', '1.26_audio.implicitDist(104).wav', '1.46_audio.implicitDist(101).wav', '2.19_audio.implicitDist(105).wav', '2.23_audio.implicitDist(141).wav', '2.19_audio.implicitDist(236).wav', '1.84_audio.implicitDist(109).wav', '1.38_audio.implicitDist(139).wav', '1.30_audio.implicitDist(136).wav', '1.30_audio.implicitDist(138).wav', '1.38_audio.implicitDist(137).wav', '1.80_audio.implicitDist(133).wav', '2.61_audio.implicitDist(129).wav', '1.30_audio.implicitDist(130).wav', '3.30_audio.implicitDist(124).wav', '3.69_audio.implicitDist(126).wav', '3.65_audio.implicitDist(127).wav', '3.42_audio.implicitDist(125).wav', '3.61_audio.implicitDist(128).wav', '2.15_audio.implicitDist(205).wav', '2.42_audio.implicitDist(207).wav', '2.53_audio.implicitDist(206).wav', '4.23_audio.implicitDist(210).wav', '3.15_audio.implicitDist(208).wav', '2.76_audio.implicitDist(209).wav', '3.19_audio.implicitDist(220).wav', '3.34_audio.implicitDist(221).wav', '1.69_audio.implicitDist(115).wav', '1.65_audio.implicitDist(116).wav', '1.80_audio.implicitDist(112).wav', '1.69_audio.implicitDist(113).wav', '1.69_audio.implicitDist(114).wav', '1.53_audio.implicitDist(118).wav', '1.57_audio.implicitDist(119).wav', '1.19_audio.implicitDist(149).wav', '1.03_audio.implicitDist(152).wav', '1.15_audio.implicitDist(148).wav', '1.11_audio.implicitDist(150).wav', '2.23_audio.implicitDist(182).wav', '1.19_audio.implicitDist(153).wav', '1.15_audio.implicitDist(180).wav', '1.53_audio.implicitDist(181).wav', '1.15_audio.implicitDist(161).wav', '1.92_audio.implicitDist(156).wav', '1.53_audio.implicitDist(183).wav', '1.07_audio.implicitDist(159).wav', '1.11_audio.implicitDist(160).wav', '1.19_audio.implicitDist(154).wav', '1.03_audio.implicitDist(155).wav', '1.46_audio.implicitDist(184).wav', '1.57_audio.implicitDist(189).wav', '1.46_audio.implicitDist(185).wav', '1.19_audio.implicitDist(187).wav', '2.07_audio.implicitDist(142).wav', '1.73_audio.implicitDist(143).wav', '2.11_audio.implicitDist(146).wav', '1.88_audio.implicitDist(144).wav', '2.19_audio.implicitDist(145).wav', '1.80_audio.implicitDist(107).wav', '1.19_audio.implicitDist(235).wav', '1.38_audio.implicitDist(227).wav', '1.15_audio.implicitDist(234).wav', '1.53_audio.implicitDist(225).wav', '1.42_audio.implicitDist(228).wav', '1.46_audio.implicitDist(226).wav', '1.57_audio.implicitDist(224).wav', '3.34_audio.implicitDist(46).wav', '3.26_audio.implicitDist(47).wav', '3.38_audio.implicitDist(48).wav', '1.30_audio.implicitDist(49).wav', '2.26_audio.implicitDist(50).wav', '1.42_audio.implicitDist(33).wav', '2.92_audio.implicitDist(34).wav', '1.46_audio.implicitDist(96).wav', '1.15_audio.implicitDist(98).wav', '2.07_audio.implicitDist(99).wav', '1.19_audio.implicitDist(97).wav', '2.23_audio.implicitDist(22).wav', '1.92_audio.implicitDist(17).wav', '1.07_audio.implicitDist(15).wav', '2.61_audio.implicitDist(18).wav', '1.07_audio.implicitDist(14).wav', '2.57_audio.implicitDist(27).wav', '2.11_audio.implicitDist(26).wav', '1.11_audio.implicitDist(24).wav', '1.07_audio.implicitDist(25).wav', '1.23_audio.implicitDist(23).wav', '2.88_audio.implicitDist(8).wav', '2.15_audio.implicitDist(9).wav', '1.30_audio.implicitDist(11).wav', '1.15_audio.implicitDist(12).wav', '1.11_audio.implicitDist(10).wav', '2.73_audio.implicitDist(32).wav', '2.03_audio.implicitDist(13).wav', '1.38_audio.implicitDist(75).wav', '1.57_audio.implicitDist(70).wav', '2.26_audio.implicitDist(73).wav', '1.69_audio.implicitDist(71).wav', '2.42_audio.implicitDist(72).wav', '2.76_audio.implicitDist(74).wav', '1.61_audio.implicitDist(67).wav', '2.92_audio.implicitDist(64).wav', '2.69_audio.implicitDist(66).wav', '2.23_audio.implicitDist(65).wav', '4.07_audio.implicitDist(61).wav', '4.38_audio.implicitDist(63).wav', '2.53_audio.implicitDist(60).wav', '3.73_audio.implicitDist(51).wav', '3.53_audio.implicitDist(53).wav', '3.23_audio.implicitDist(56).wav', '3.23_audio.implicitDist(52).wav', '3.19_audio.implicitDist(54).wav', '3.15_audio.implicitDist(55).wav', '3.57_audio.implicitDist(58).wav', '3.30_audio.implicitDist(59).wav', '3.65_audio.implicitDist(57).wav', '4.42_audio.implicitDist(101).wav', '3.11_audio.implicitDist(102).wav', '2.53_audio.implicitDist(103).wav', '2.15_audio.implicitDist(41).wav', '2.11_audio.implicitDist(35).wav', '2.11_audio.implicitDist(37).wav', '1.96_audio.implicitDist(36).wav', '2.46_audio.implicitDist(39).wav', '2.23_audio.implicitDist(38).wav', '1.96_audio.implicitDist(40).wav', '2.46_audio.implicitDist(45).wav', '2.19_audio.implicitDist(43).wav', '2.19_audio.implicitDist(44).wav', '1.15_audio.implicitDist(42).wav', '3.03_audio.implicitDist(87).wav', '1.73_audio.implicitDist(89).wav', '2.65_audio.implicitDist(88).wav', '2.80_audio.implicitDist(92).wav', '2.23_audio.implicitDist(90).wav', '2.65_audio.implicitDist(91).wav', '2.92_audio.implicitDist(95).wav', '2.57_audio.implicitDist(93).wav', '3.30_audio.implicitDist(94).wav', '1.42_audio.implicitDist(80).wav', '2.03_audio.implicitDist(79).wav', '2.30_audio.implicitDist(85).wav', '1.57_audio.implicitDist(83).wav', '1.19_audio.implicitDist(82).wav', '1.11_audio.implicitDist(81).wav', '2.15_audio.implicitDist(84).wav', '2.61_audio.implicitDist(30).wav', '1.80_audio.implicitDist(2).wav', '1.53_audio.implicitDist(1).wav', '1.11_audio.implicitDist(4).wav', '1.30_audio.implicitDist(5).wav', '1.07_audio.implicitDist(6).wav', '1.80_audio.implicitDist(3).wav', '2.80_audio.(10)_20.wav', '3.88_audio.(14)_20.wav', '3.30_audio.(5)_20.wav', '3.03_audio.(2)_20.wav', '1.84_audio.(16)_20.wav', '2.42_audio.(1)_20.wav', '3.80_audio.(7)_20.wav', '2.57_audio.(3)_20.wav', '3.96_audio.(9)_20.wav', '2.46_audio.(10)_21.wav', '1.30_audio.(16)_21.wav', '1.53_audio.(15)_21.wav', '1.73_audio.(12)_21.wav', '2.26_audio.(14)_21.wav', '2.34_audio.(11)_21.wav', '1.80_audio.(8)_21.wav', '1.80_audio.(1)_21.wav', '1.69_audio.(7)_21.wav', '2.46_audio.(3)_21.wav', '1.73_audio.(5)_21.wav', '2.19_audio.(4)_21.wav', '2.38_audio.(2)_21.wav', '1.53_audio.(9)_21.wav', '4.23_audio.(19)_22.wav', '4.19_audio.(2)_22.wav', '2.88_audio.(1)_22.wav', '3.69_audio.(3)_22.wav', '3.26_audio.(7)_22.wav', '4.30_audio.(8)_22.wav', '3.73_audio.(101)_21.wav', '3.30_audio.(80)_21.wav', '3.69_audio.(81)_21.wav', '4.11_audio.(83)_21.wav', '1.61_audio.(102)_21.wav', '2.65_audio.(103)_21.wav', '3.38_audio.(84)_21.wav', '4.11_audio.(88)_21.wav', '3.76_audio.(104)_21.wav', '4.30_audio.(82)_21.wav', '4.38_audio.(87)_21.wav', '3.80_audio.(86)_21.wav', '3.96_audio.(97)_21.wav', '2.57_audio.(95)_21.wav', '3.23_audio.(96)_21.wav', '3.11_audio.(94)_21.wav', '1.69_audio.(99)_21.wav', '2.53_audio.(98)_21.wav', '2.84_audio.(22)_19.wav', '2.73_audio.(21)_20.wav', '3.23_audio.(40)_20.wav', '3.07_audio.(21)_21.wav', '3.53_audio.(40)_21.wav', '3.15_audio.(63)_19.wav', '3.61_audio.(65)_19.wav', '3.53_audio.(67)_19.wav', '4.23_audio.(59)_19.wav', '3.26_audio.(66)_19.wav', '3.92_audio.(64)_19.wav', '3.15_audio.(60)_19.wav', '4.23_audio.(75)_19.wav', '3.46_audio.(73)_19.wav', '3.57_audio.(71)_19.wav', '3.23_audio.(74)_19.wav', '3.57_audio.(79)_19.wav', '1.80_audio.(60)_20.wav', '1.42_audio.(62)_20.wav', '1.34_audio.(59)_20.wav', '1.57_audio.(64)_20.wav', '1.42_audio.(63)_20.wav', '2.34_audio.(70)_20.wav', '1.38_audio.(66)_20.wav', '1.57_audio.(67)_20.wav', '1.46_audio.(74)_20.wav', '1.76_audio.(76)_20.wav', '1.69_audio.(65)_20.wav', '1.88_audio.(71)_20.wav', '2.26_audio.(42)_19.wav', '1.61_audio.(41)_19.wav', '1.84_audio.(51)_19.wav', '1.07_audio.(50)_19.wav', '1.38_audio.(44)_19.wav', '1.61_audio.(43)_19.wav', '4.11_audio.(55)_19.wav', '2.53_audio.(57)_19.wav', '2.80_audio.(56)_19.wav', '3.65_audio.(58)_19.wav', '2.46_audio.(51)_20.wav', '2.30_audio.(44)_20.wav', '3.19_audio.(43)_20.wav', '2.65_audio.(42)_20.wav', '2.96_audio.(41)_20.wav', '4.53_audio.(56)_20.wav', '4.07_audio.(57)_20.wav', '1.69_audio.(42)_22.wav', '1.76_audio.(43)_22.wav', '1.38_audio.(41)_22.wav', '3.42_audio.(56)_22.wav', '4.30_audio.(58)_22.wav', '2.73_audio.(57)_22.wav', '1.53_audio.(51)_22.wav', '4.53_audio.(89)_23.wav', '3.65_audio.(85)_23.wav', '2.38_audio.(80)_23.wav', '3.57_audio.(100)_23.wav', '3.34_audio.(81)_23.wav', '3.30_audio.(84)_23.wav', '3.42_audio.(88)_23.wav', '3.96_audio.(104)_23.wav', '2.88_audio.(83)_23.wav', '3.34_audio.(87)_23.wav', '3.03_audio.(102)_23.wav', '3.46_audio.(86)_23.wav', '3.80_audio.(101)_23.wav', '3.76_audio.(90)_23.wav', '3.61_audio.(82)_23.wav', '3.19_audio.(94)_23.wav', '3.65_audio.(95)_23.wav', '3.57_audio.(97)_23.wav', '3.88_audio.(96)_23.wav', '3.46_audio.(98)_23.wav', '4.26_audio.(12)_23.wav', '4.23_audio.(11)_23.wav', '3.76_audio.(17)_23.wav', '3.34_audio.(18)_23.wav', '3.11_audio.(19)_23.wav', '4.15_audio.(20)_23.wav', '4.34_audio.(10)_23.wav', '2.46_audio.(16)_23.wav', '3.57_audio.(2)_23.wav', '4.26_audio.(13)_23.wav', '4.46_audio.(14)_23.wav', '3.88_audio.(3)_23.wav', '4.23_audio.(1)_23.wav', '3.92_audio.(15)_23.wav', '3.80_audio.(7)_23.wav', '3.96_audio.(9)_23.wav', '3.38_audio.(8)_23.wav', '3.46_audio.(6)_23.wav', '3.61_audio.(5)_23.wav', '3.80_audio.(2)_ps.wav', '2.38_audio.(3)_ps.wav', '2.15_audio.(33)_ps.wav', '2.61_audio.(32)_ps.wav', '3.73_audio.(4)_ps.wav', '1.57_audio.(44)_ps.wav', '3.53_audio.(55)_ps.wav', '3.61_audio.(56)_ps.wav', '3.15_audio.(57)_ps.wav', '4.19_audio.(58)_ps.wav', '3.57_audio.(59)_ps.wav', '2.76_audio.(6)_ps.wav', '3.34_audio.(7)_ps.wav', '2.38_audio.(101)_ps.wav', '3.46_audio.(100)_ps.wav', '3.15_audio.(104)_ps.wav', '3.42_audio.(60)_ps.wav', '2.53_audio.(61)_ps.wav', '1.76_audio.(102)_ps.wav', '4.46_audio.(64)_ps.wav', '2.69_audio.(65)_ps.wav', '2.34_audio.(62)_ps.wav', '4.19_audio.(63)_ps.wav', '3.88_audio.(66)_ps.wav', '4.15_audio.(68)_ps.wav', '4.61_audio.(71)_ps.wav', '4.15_audio.(67)_ps.wav', '4.11_audio.(69)_ps.wav', '4.61_audio.(70)_ps.wav', '3.84_audio.(73)_ps.wav', '4.15_audio.(72)_ps.wav', '4.53_audio.(75)_ps.wav', '3.88_audio.(74)_ps.wav', '4.53_audio.(79)_ps.wav', '4.76_audio.(77)_ps.wav', '4.07_audio.(78)_ps.wav', '4.46_audio.(80)_ps.wav', '4.80_audio.(76)_ps.wav', '3.57_audio.(81)_ps.wav', '4.42_audio.(82)_ps.wav', '4.34_audio.(83)_ps.wav', '3.84_audio.(84)_ps.wav', '4.15_audio.(85)_ps.wav', '4.07_audio.(87)_ps.wav', '4.42_audio.(88)_ps.wav', '4.53_audio.(86)_ps.wav', '4.42_audio.(89)_ps.wav', '4.15_audio.(90)_ps.wav', '3.84_audio.(10)_ps.wav', '4.61_audio.(12)_ps.wav', '4.57_audio.(14)_ps.wav', '4.57_audio.(11)_ps.wav', '1.53_audio.(16)_ps.wav', '4.42_audio.(19)_ps.wav', '3.80_audio.(18)_ps.wav', '1.69_audio.(15)_ps.wav', '1.46_audio.(17)_ps.wav', '2.38_audio.(24)_ps.wav', '3.76_audio.(20)_ps.wav', '3.07_audio.(23)_ps.wav', '3.84_audio.(21)_ps.wav', '3.42_audio.(22)_ps.wav', '4.30_audio.(26)_ps.wav', '4.61_audio.(28)_ps.wav', '4.46_audio.(27)_ps.wav', '2.42_audio.(25)_ps.wav', '3.73_audio.(29)_ps.wav', '3.84_audio.(9)_ps.wav', '2.46_audio.(31)_ps.wav', '4.57_audio.(8)_ps.wav', '4.23_audio.(30)_ps.wav', '1.65_audio.implicitDist(377).wav', '2.07_audio.implicitDist(364).wav', '1.53_audio.implicitDist(366).wav', '1.46_audio.implicitDist(362).wav', '1.65_audio.implicitDist(368).wav', '2.19_audio.implicitDist(365).wav', '2.07_audio.implicitDist(363).wav', '2.30_audio.implicitDist(369).wav', '1.57_audio.implicitDist(367).wav', '2.03_audio.implicitDist(403).wav', '2.42_audio.implicitDist(400).wav', '2.11_audio.implicitDist(402).wav', '2.42_audio.implicitDist(404).wav', '2.53_audio.implicitDist(401).wav', '1.96_audio.implicitDist(405).wav', '3.38_audio.implicitDist(444).wav', '4.23_audio.implicitDist(301).wav', '3.57_audio.implicitDist(443).wav', '3.46_audio.implicitDist(442).wav', '4.38_audio.implicitDist(302).wav', '3.57_audio.implicitDist(449).wav', '3.65_audio.implicitDist(448).wav', '3.65_audio.implicitDist(446).wav', '3.92_audio.implicitDist(300).wav', '4.30_audio.implicitDist(310).wav', '4.42_audio.implicitDist(304).wav', '3.11_audio.implicitDist(447).wav', '3.61_audio.implicitDist(441).wav', '4.34_audio.implicitDist(303).wav', '2.15_audio.implicitDist(438).wav', '3.30_audio.implicitDist(440).wav', '3.61_audio.implicitDist(439).wav', '1.42_audio.implicitDist(414).wav', '1.19_audio.implicitDist(420).wav', '1.15_audio.implicitDist(415).wav', '1.42_audio.implicitDist(418).wav', '1.61_audio.implicitDist(416).wav', '1.46_audio.implicitDist(419).wav', '1.15_audio.implicitDist(411).wav', '1.42_audio.implicitDist(410).wav', '1.15_audio.implicitDist(413).wav', '1.42_audio.implicitDist(417).wav', '1.19_audio.implicitDist(412).wav', '2.46_audio.implicitDist(395).wav', '2.53_audio.implicitDist(396).wav', '2.53_audio.implicitDist(399).wav', '2.34_audio.implicitDist(397).wav', '1.65_audio.implicitDist(314).wav', '1.69_audio.implicitDist(315).wav', '1.53_audio.implicitDist(313).wav', '1.76_audio.implicitDist(311).wav', '1.73_audio.implicitDist(312).wav', '1.46_audio.implicitDist(360).wav', '1.46_audio.implicitDist(357).wav', '1.42_audio.implicitDist(356).wav', '1.42_audio.implicitDist(359).wav', '1.46_audio.implicitDist(358).wav', '1.26_audio.implicitDist(361).wav', '2.65_audio.implicitDist(382).wav', '2.65_audio.implicitDist(379).wav', '2.46_audio.implicitDist(384).wav', '2.65_audio.implicitDist(380).wav', '2.69_audio.implicitDist(385).wav', '1.57_audio.implicitDist(378).wav', '2.53_audio.implicitDist(381).wav', '2.69_audio.implicitDist(383).wav', '1.26_audio.implicitDist(320).wav', '1.34_audio.implicitDist(321).wav', '1.34_audio.implicitDist(319).wav', '1.42_audio.implicitDist(318).wav', '1.34_audio.implicitDist(322).wav', '1.23_audio.implicitDist(324).wav', '1.53_audio.implicitDist(329).wav', '1.26_audio.implicitDist(328).wav', '1.26_audio.implicitDist(326).wav', '1.15_audio.implicitDist(325).wav', '1.26_audio.implicitDist(327).wav', '1.42_audio.implicitDist(334).wav', '2.19_audio.implicitDist(336).wav', '1.61_audio.implicitDist(338).wav', '1.69_audio.implicitDist(342).wav', '1.65_audio.implicitDist(339).wav', '1.61_audio.implicitDist(344).wav', '2.03_audio.implicitDist(343).wav', '1.61_audio.implicitDist(335).wav', '2.03_audio.implicitDist(337).wav', '2.15_audio.implicitDist(341).wav', '1.42_audio.implicitDist(355).wav', '2.07_audio.implicitDist(340).wav', '1.42_audio.implicitDist(421).wav', '1.53_audio.implicitDist(423).wav', '1.38_audio.implicitDist(427).wav', '1.38_audio.implicitDist(422).wav', '1.26_audio.implicitDist(425).wav', '1.38_audio.implicitDist(426).wav', '1.42_audio.implicitDist(424).wav', '4.53_audio._df_(8).wav', '4.19_audio._df_(6).wav', '4.42_audio._df_(9).wav', '4.30_audio._df_(7).wav', '4.07_audio._df_(3).wav', '4.19_audio._df_(4).wav', '4.34_audio._df_(1).wav', '4.46_audio._df_(2).wav', '1.46_audio.implicitDist(394).wav', '1.46_audio.implicitDist(393).wav', '1.57_audio.implicitDist(392).wav', '1.46_audio.implicitDist(391).wav', '1.42_audio.implicitDist(390).wav', '1.38_audio.implicitDist(432).wav', '1.65_audio.implicitDist(436).wav', '1.61_audio.implicitDist(433).wav', '1.57_audio.implicitDist(435).wav', '1.73_audio.implicitDist(437).wav', '1.53_audio.implicitDist(434).wav', '1.34_audio.implicitDist(431).wav', '1.34_audio.implicitDist(430).wav', '1.53_audio.implicitDist(428).wav', '1.34_audio.implicitDist(429).wav', '4.57_audio._df_(12).wav', '4.53_audio._df_(11).wav', '4.65_audio._df_(13).wav', '4.69_audio._df_(15).wav', '3.26_audio._df_(14).wav', '4.61_audio._df_(20).wav', '4.19_audio._df_(22).wav', '3.76_audio._df_(21).wav', '4.26_audio._df_(23).wav', '4.07_audio._df_(17).wav', '3.92_audio._df_(19).wav', '4.11_audio._df_(16).wav', '4.61_audio._df_(18).wav', '4.89_audio.interview_org52.wav', '4.69_audio.nature_112_8.wav', '4.97_audio.carpenter_1_3.wav', '4.88_audio.animation_8_8.wav', '4.74_audio.field_org_2_1.wav', '4.76_audio.interview_111_6.wav', '2.06_audio.home_6_8.wav', '2.12_audio.run_1_4.wav', '4.92_audio.music_63_5.wav', '4.58_audio.girls_dance_org1.wav', '2.08_audio.travel_org6_3.wav', '3.12_audio.tie_tut_1_3.wav', '4.11_audio.interview_org10.wav', '4.82_audio.interview_11_3.wav', '4.10_audio.music_63_9.wav', '3.75_audio.music_12_6.wav', '3.46_audio.home_video_5_2.wav', '2.83_audio.animation_3_6.wav', '3.78_audio.childrendance_1_5.wav', '4.78_audio.girls_song_4.wav', '4.90_audio.nature_15_1.wav', '4.75_audio.music_22_5.wav', '4.81_audio.music_org5_1.wav', '4.62_audio.run_org_1.wav', '1.00_audio.animation_9_10.wav', '4.56_audio.animation_3_5.wav', '4.32_audio.agriculture_1_6.wav', '4.90_audio.snow_org_2_1.wav', '4.90_audio.news_1_5.wav', '3.60_audio.interview_31_5.wav', '4.84_audio.nature_112_3.wav', '4.10_audio.run_1_10.wav', '4.12_audio.interview_42_8.wav', '4.79_audio.nature_112_5.wav', '2.38_audio.boat_1_3.wav', '1.13_audio.train_1_7.wav', '1.02_audio.recipe_1_10.wav', '4.81_audio.travel_org1_1.wav', '2.41_audio.woman_talking_1_9.wav', '1.00_audio.exercise_1_1.wav', '1.20_audio.home_video3_1.wav', '1.71_audio.music_61_4.wav', '1.22_audio.home_video_7_8.wav', '1.61_audio.music_21_3.wav', '1.10_audio.news_1_8.wav', '1.02_audio.animation_9_1.wav', '1.22_audio.dance_91_9.wav', '1.11_audio.train_1_1.wav', '2.33_audio.nature_15_7.wav', '1.20_audio.bull_1_8.wav', '1.22_audio.agriculture_1_1.wav', '1.24_audio.ship_1_10.wav', '2.52_audio.travel_org2_3.wav', '1.02_audio.animation_230_10.wav', '1.22_audio.boxing_2_8.wav', '1.10_audio.traffic_1_9.wav', '1.02_audio.tie_tut_1_10.wav', '1.10_audio.nature_13_7.wav', '1.42_audio.interview_22_2.wav', '2.46_audio.animation_230_3.wav', '1.73_audio.news_1_7.wav', '1.00_audio.girls_dance1_7.wav', '2.24_audio.interview_111_9.wav', '1.00_audio.animation_3_4.wav', '2.58_audio.childrendance_1_9.wav', '1.69_audio.music_12_1.wav', '2.32_audio.interview_11_9.wav', '1.13_audio.train_4_5.wav', '1.50_audio.street_show_1_9.wav', '1.04_audio.train_2_9.wav', '1.31_audio.music_21_7.wav', '1.00_audio.home_6_9.wav', '1.04_audio.home_video3_7.wav', '2.12_audio.music_12_11.wav', '1.04_audio.chair_basketball_7.wav', '1.00_audio.dance_21_10.wav', '1.02_audio.animation_72_9.wav', '1.35_audio.music_51_4.wav', '4.08_audio.dance_92_7.wav', '4.16_audio.childrendance_2_3.wav', '4.96_audio.agriculture_org_2.wav', '4.00_audio.animation_3_3.wav', '2.92_audio.agriculture_2_6.wav', '2.44_audio.car_1_3.wav', '4.72_audio.animation_1_5.wav', '3.96_audio.dive_10.wav', '4.76_audio.interview_111_5.wav', '4.32_audio.interview_org61.wav', '3.08_audio.interview_100_8.wav', '5.00_audio.music_21_6.wav', '1.96_audio.home_video_5_1.wav', '3.08_audio.home_video3_8.wav', '2.76_audio.train_1_5.wav', '4.76_audio.song_org_3.wav', '2.01_audio.street_show_1_4.wav', '2.16_audio.nature_112_6.wav', '4.72_audio.nature_72_10.wav', '4.84_audio.travel_org5_2.wav', '2.01_audio.basketball_6.wav', '4.82_audio.girl_talking_org_2.wav', '3.92_audio.music_83_8.wav', '4.32_audio.exercise_1_2.wav', '3.76_audio.street_show__3_10.wav', '4.72_audio.boxing_2_2.wav', '3.16_audio.basketball_4.wav', '4.76_audio.recipe_1_5.wav', '4.88_audio.boxing_3_5.wav', '2.01_audio.woman_talking_1_7.wav', '3.24_audio.childrendance_1_2.wav', '3.01_audio.interview_22_8.wav', '1.92_audio.home_video_4_3.wav', '4.32_audio.train_org2.wav', '2.00_audio.animation_1_3.wav', '4.92_audio.bike_22_1.wav', '2.36_audio.interview_10_4.wav', '1.56_audio.travel_org7_3.wav', '4.72_audio.animation_72_5.wav', '4.88_audio.interview_org11.wav', '3.32_audio.street_show_org2.wav', '4.88_audio.boxing_org3_1.wav', '3.41_audio.music_31_5.wav', '2.56_audio.street_show__3_4.wav', '2.76_audio.home_video3_5.wav', '4.32_audio.music_org7_1.wav', '1.88_audio.music_12_9.wav', '4.01_audio.music_51_10.wav', '1.88_audio.ship_1_6.wav', '3.16_audio.bike_8.wav', '3.81_audio.car_1_2.wav', '4.96_audio.music_71_10.wav', '4.84_audio.song_org_1.wav', '3.01_audio.music_61_3.wav', '2.96_audio.animation_3_7.wav', '4.84_audio.girl_interview_org_2.wav', '4.81_audio.interview_111_2.wav', '4.76_audio.travel_org6_1.wav', '4.21_audio.home_video_9_9.wav', '1.64_audio.home_video_4_4.wav', '1.92_audio.train_1_2.wav', '4.82_audio.children_org_1.wav', '4.28_audio.carpenter_org_1.wav', '3.12_audio.interview_61_5.wav', '1.92_audio.home_video_4_6.wav', '4.88_audio.travel_org13_1.wav', '3.76_audio.street_show_1_5.wav', '3.92_audio.walkway_1_10.wav', '2.88_audio.interview_81_9.wav', '2.32_audio.run_1_6.wav', '3.01_audio.ship_org1.wav', '3.68_audio.train_2_2.wav', '4.72_audio.boxing_1_1.wav', '1.76_audio.car_1_4.wav', '3.88_audio.child_playing_org_1.wav', '2.12_audio.dance_22_9.wav', '4.81_audio.interview_31_7.wav', '3.43_audio.inetrview_52_7.wav', '3.12_audio.interview_61_2.wav', '3.92_audio.inetrview_52_4.wav', '3.76_audio.nature_42_1.wav', '3.81_audio.girl_interview_org_3_2.wav', '4.64_audio.car_1_7.wav', '4.16_audio.music_org5_2.wav', '3.96_audio.dance_21_5.wav', '3.68_audio.train_2_5.wav', '3.92_audio.music_61_8.wav', '3.32_audio.home_video_org3.wav', '2.32_audio.desert_bike_org1.wav', '3.42_audio.childrendance_2_6.wav', '4.84_audio.boxing2.wav', '4.16_audio.street_show__3_2.wav', '2.08_audio.dance_22_4.wav', '4.72_audio.boxing_1_5.wav', '2.76_audio.nature_72_3.wav', '4.81_audio.animation_org8_1.wav', '4.36_audio.interview_org81.wav', '4.24_audio.interview_org71.wav', '2.68_audio.street_dance_1_1.wav', '4.72_audio.boxing_2_5.wav', '4.41_audio.music_org2_1.wav', '2.85_audio.news_2_8.wav', '2.84_audio.tunnel_2.wav', '4.72_audio.music_13_5.wav', '1.84_audio.traffic_1_1.wav', '5.00_audio.travel_org8.wav', '3.01_audio.recipe_1_7.wav', '1.76_audio.animation_1_6.wav', '4.96_audio.interview_org42.wav', '3.92_audio.nature_42_2.wav', '3.88_audio.bull_2_4.wav', '3.12_audio.boat_1_8.wav', '2.08_audio.music_41_9.wav', '3.12_audio.traffic_1_2.wav', '5.00_audio.travel_org11_1.wav', '1.96_audio.tie_tut_1_8.wav', '4.24_audio.dance_group_org_1_2.wav', '3.43_audio.music_12_3.wav', '4.21_audio.music_71_6.wav', '4.92_audio.nature_org7_2.wav', '2.41_audio.bull_1_7.wav', '3.92_audio.music_52_6.wav', '3.20_audio.home_6_1.wav', '4.41_audio.music_51_6.wav', '1.72_audio.woman_talking_1_4.wav', '4.21_audio.wine_1_5.wav', '4.56_audio.bull_2_8.wav', '4.08_audio.music_13_3.wav', '4.92_audio.news_org_1.wav', '4.92_audio.agriculture_org_1.wav', '4.16_audio.boy_speaking_org_2.wav', '3.41_audio.news_2_3.wav', '4.32_audio.animation_2_5.wav', '4.72_audio.girl_nature_org_3_1.wav', '4.81_audio.children_org_1_1.wav', '5.00_audio.guitar_org4.wav', '2.36_audio.interview_31_8.wav', '3.20_audio.interview_81_1.wav', '3.01_audio.train_2_1.wav', '2.12_audio.nature_org19_2.wav', '4.96_audio.nature_72_4.wav', '4.92_audio.travel_org13.wav', '4.92_audio.dance_group_org_1_1.wav', '2.04_audio.home_6_3.wav', '2.44_audio.interview_91_4.wav', '3.24_audio.nature_42_10.wav', '4.76_audio.song_org_2.wav', '4.04_audio.interview_61_6.wav', '4.72_audio.song_org_3_1.wav', '4.72_audio.animation_72_2.wav', '1.68_audio.childrendance_1_4.wav', '1.84_audio.bike_3.wav', '4.44_audio.music_org6_1.wav', '4.76_audio.interview_42_4.wav', '2.12_audio.interview_91_9.wav', '2.00_audio.street_dance_1_7.wav', '1.76_audio.sports1_9.wav', '3.32_audio.home_video3_6.wav', '4.41_audio.exercise_1_5.wav', '4.84_audio.girl_interview_org_2_1.wav', '4.92_audio.animation_org7_2.wav', '4.76_audio.boxing_3_7.wav', '4.82_audio.news_1_2.wav', '1.84_audio.friends_1_8.wav', '3.42_audio.home_6_6.wav', '2.96_audio.home_video_4_7.wav', '3.28_audio.nature_112_4.wav', '3.23_audio.street_show__3_9.wav', '2.56_audio.friends_1_6.wav', '3.92_audio.home_video_9_8.wav', '1.96_audio.bike_7.wav', '4.72_audio.animation92_1.wav', '3.88_audio.inetrview_52_6.wav', '4.21_audio.childrendance_org1.wav', '4.81_audio.boy_dance_org1.wav', '2.51_audio.girls_song_2.wav', '4.83_audio.friends_org1.wav', '1.76_audio.walkway_1_4.wav', '2.32_audio.interview_21_8.wav', '1.84_audio.sports1_3.wav', '2.88_audio.streetwalk_1_3.wav', '3.42_audio.dive_3.wav', '3.76_audio.field_org_1_2.wav', '4.72_audio.animation_3_1.wav', '1.84_audio.girls_dance1_8.wav', '3.16_audio.music_31_2.wav', '4.16_audio.home_video_5_5.wav', '4.81_audio.animation_12_2.wav', '2.11_audio.street_dance_2_4.wav', '4.95_audio.nature_org11_2.wav', '3.04_audio.music_org4_1.wav', '2.32_audio.interview_11_6.wav', '4.83_audio.random_org2.wav', '1.00_audio.train_3_9.wav', '4.84_audio.music_71_3.wav', '3.88_audio.music_63_3.wav', '2.24_audio.exercise_1_3.wav', '4.32_audio.music_12_5.wav', '2.68_audio.interview_111_3.wav', '4.82_audio.music_61_2.wav', '2.76_audio.childrendance_2_9.wav', '3.88_audio.interview_91_5.wav', '3.68_audio.train_2_4.wav', '3.74_audio.interview_11_4.wav', '1.64_audio.street_show_2_4.wav', '1.00_audio.travel_org1_3.wav', '4.92_audio.group_song_org_1_1.wav', '2.92_audio.train_3_4.wav', '4.82_audio.kid_1_6.wav', '3.12_audio.childrendance_1_6.wav', '4.72_audio.field_org_1.wav', '4.72_audio.interview_41_3.wav', '2.08_audio.traffic_1_7.wav', '2.16_audio.agriculture_1_4.wav', '3.28_audio.nature_72_6.wav', '1.76_audio.recipe_1_2.wav', '2.12_audio.boxing_2_9.wav', '3.92_audio.street_show__3_5.wav', '2.32_audio.music_61_9.wav', '4.04_audio.boy_speaking_org_3_1.wav', '4.32_audio.home_video_org6.wav', '3.12_audio.music_71_2.wav', '3.32_audio.music_52_9.wav', '2.32_audio.home_video_7_4.wav', '2.68_audio.chair_basketball_9.wav', '3.16_audio.interview_91_1.wav', '4.32_audio.street_show_org1.wav', '2.50_audio.animation_1_7.wav', '1.84_audio.dance_91_4.wav', '4.84_audio.music_63_6.wav', '2.40_audio.nature_13_9.wav', '3.12_audio.music_52_8.wav', '1.01_audio.nature_192_1.wav', '4.82_audio.childrendance_2_2.wav', '4.92_audio.nature_15_2.wav', '4.72_audio.carpenter_1_5.wav', '4.16_audio.bull_1_10.wav', '4.32_audio.street_show_org3.wav', '3.20_audio.bike_22_8.wav', '4.72_audio.random_org2_1.wav', '1.76_audio.animation_3_10.wav', '4.16_audio.music_51_2.wav', '2.96_audio.home_video_8_3.wav', '4.41_audio.home_video_org7.wav', '4.21_audio.drama_org_1.wav', '4.96_audio.girl_interview_org_3.wav', '4.82_audio.girl_interview_org_1.wav', '4.76_audio.travel_org12.wav', '4.72_audio.boxing_3_4.wav', '2.68_audio.exercise_1_6.wav', '3.42_audio.music_13_10.wav', '4.76_audio.boy_dance_org1_1.wav', '2.00_audio.music_63_4.wav', '2.88_audio.tie_tut_1_6.wav', '3.41_audio.chair_basketball_6.wav', '4.12_audio.streetwalk_1_5.wav', '4.36_audio.dance_org22.wav', '2.76_audio.chair_basketball_3.wav', '4.83_audio.home_video_4_2.wav', '3.42_audio.interview_100_2.wav', '2.96_audio.nature_org15_1.wav', '3.43_audio.interview_61_8.wav', '3.76_audio.animation_12_7.wav', '1.96_audio.friends_1_4.wav', '4.41_audio.dance_org21.wav', '2.04_audio.music_63_7.wav', '2.68_audio.animation_8_3.wav', '2.12_audio.interview_91_3.wav', '4.12_audio.interview_42_5.wav', '3.81_audio.animation_2_4.wav', '4.81_audio.interview_42_9.wav', '2.16_audio.street_dance_2_7.wav', '2.12_audio.train_3_1.wav', '4.92_audio.dance_group_org_1.wav', '3.43_audio.train_1_6.wav', '1.84_audio.sports_org1.wav', '4.72_audio.girl_talking_org_1_1.wav', '4.16_audio.random_org3_1.wav', '4.84_audio.chair_basketball_org.wav', '4.82_audio.guitar_org3_1.wav', '4.84_audio.travel_org2_1.wav', '3.84_audio.animation_230_7.wav', '4.72_audio.travel_org7_2.wav', '4.08_audio.inetrview_52_9.wav', '3.08_audio.music_52_3.wav', '2.08_audio.dance_21_4.wav', '3.04_audio.walkway_1_2.wav', '1.76_audio.interview_91_6.wav', '4.72_audio.dance_org91.wav', '4.21_audio.snow_org_1.wav', '4.32_audio.interview_61_7.wav', '2.76_audio.animation_12_10.wav', '4.92_audio.boy_dance_org4_1.wav', '2.20_audio.music_61_7.wav', '1.92_audio.childrendance_1_10.wav', '3.12_audio.music_71_9.wav', '4.76_audio.people_rushorg_1.wav', '4.28_audio.wine_1_1.wav', '2.40_audio.animation_72_7.wav', '1.84_audio.car_1_1.wav', '4.92_audio.animation_org1_1.wav', '3.12_audio.interview_22_10.wav', '4.92_audio.travel_org11.wav', '4.32_audio.interview_org100.wav', '4.92_audio.boy_dance_org3.wav', '2.88_audio.dance_21_3.wav', '4.21_audio.music_13_2.wav', '4.96_audio.music_org2_2.wav', '4.92_audio.song_org_1_1.wav', '1.00_audio.nature_13_4.wav', '2.68_audio.agriculture_1_3.wav', '4.92_audio.girl_talking_org_2_1.wav', '4.72_audio.friends_1_5.wav', '2.76_audio.ship_1_3.wav', '1.92_audio.interview_11_8.wav', '3.16_audio.dance_91_3.wav', '1.00_audio.bull_1_9.wav', '3.42_audio.interview_71_9.wav', '4.82_audio.interview_11_1.wav', '4.92_audio.girl_interview_org_1_1.wav', '2.00_audio.animation_9_7.wav', '3.12_audio.animation92_3.wav', '1.52_audio.friends_1_7.wav', '2.88_audio.basketball_8.wav', '4.72_audio.girl_interview_org_3_1.wav', '3.01_audio.travel_org1_2.wav', '4.76_audio.music_12_2.wav', '2.04_audio.street_show__3_6.wav', '1.92_audio.train_3_6.wav', '4.21_audio.home_video_org5.wav', '4.24_audio.music_22_2.wav', '3.84_audio.bull_2_6.wav', '4.32_audio.wine_1_8.wav', '2.32_audio.street_show_2_9.wav', '4.32_audio.woman_talking_1_8.wav', '2.88_audio.tunnel_8.wav', '2.88_audio.child_playing1_2.wav', '3.88_audio.street_show_1_2.wav', '2.44_audio.home_video3_4.wav', '2.04_audio.people_rush_1_6.wav', '1.00_audio.exercise_1_8.wav', '1.92_audio.train_3_7.wav', '1.60_audio.desert_bike_7.wav', '4.83_audio.bike_22_5.wav', '2.12_audio.interview_10_8.wav', '2.56_audio.tunnel_3.wav', '4.08_audio.kid_1_3.wav', '4.32_audio.interview_71_1.wav', '4.34_audio.woman_talking_org1.wav', '4.88_audio.car_org1.wav', '3.84_audio.dance_92_2.wav', '2.36_audio.dance_22_1.wav', '4.84_audio.news_2_5.wav', '3.43_audio.interview_22_5.wav', '3.04_audio.interview_61_3.wav', '2.88_audio.basketball_3.wav', '2.92_audio.news_2_10.wav', '4.04_audio.animation_12_5.wav', '3.22_audio.interview_10_1.wav', '3.01_audio.interview_91_10.wav', '4.32_audio.interview_org51.wav', '4.71_audio.random_org1.wav', '1.80_audio.ship_1_5.wav', '3.84_audio.kid_1_10.wav', '1.72_audio.interview_51_8.wav', '3.32_audio.bike_5.wav', '4.72_audio.song_org_4.wav', '3.76_audio.girl_interview_org_1_2.wav', '4.28_audio.girl_nature_org_2_1.wav', '3.12_audio.music_21_8.wav', '2.26_audio.song_org_4_2.wav', '3.28_audio.interview_61_10.wav', '3.26_audio.street_dance_2_8.wav', '2.08_audio.interview_22_6.wav', '4.22_audio.dance_21_6.wav', '4.32_audio.home_6_2.wav', '3.42_audio.inetrview_52_3.wav', '4.82_audio.home_video_8_5.wav', '4.88_audio.home_video_8_2.wav', '1.96_audio.home_video_9_3.wav', '1.68_audio.interview_71_7.wav', '3.44_audio.boxing_3_10.wav', '2.88_audio.dance_92_3.wav', '1.68_audio.street_show__3_8.wav', '2.08_audio.sports1_4.wav', '2.88_audio.dance_22_3.wav', '4.41_audio.agriculture_2_5.wav', '2.76_audio.street_show_2_5.wav', '3.12_audio.dance_22_8.wav', '1.92_audio.ship_1_4.wav', '3.04_audio.traffic_1_5.wav', '2.01_audio.music_83_3.wav', '2.12_audio.animation_8_4.wav', '3.41_audio.music_63_8.wav', '4.92_audio.girl_nature_org_1_1.wav', '4.24_audio.interview_31_4.wav', '4.72_audio.car_1_6.wav', '2.92_audio.ship_1_9.wav', '4.72_audio.animation92_9.wav', '4.92_audio.boy_dance_org4.wav', '4.21_audio.basketball_org1.wav', '2.92_audio.music_22_8.wav', '2.12_audio.animation_72_1.wav', '1.92_audio.interview_81_8.wav', '3.88_audio.interview_10_6.wav', '2.01_audio.interview_21_4.wav', '4.82_audio.guitar_org5_1.wav', '4.08_audio.interview_42_6.wav', '2.76_audio.train_org1.wav', '4.72_audio.music_63_2.wav', '4.72_audio.girl_talking_org_1.wav', '2.16_audio.home_video_8_6.wav', '4.72_audio.field_org_1_1.wav', '4.72_audio.childrendance_2_5.wav', '2.96_audio.animation92_5.wav', '2.12_audio.inetrview_52_10.wav', '2.04_audio.nature_72_9.wav', '3.88_audio.dance_21_8.wav', '4.32_audio.snow_org_1_1.wav', '4.16_audio.animation92_8.wav', '3.94_audio.bike_org_1.wav', '1.72_audio.travel_org9_3.wav', '3.08_audio.girls_dance1_2.wav', '1.68_audio.home_video_8_1.wav', '3.76_audio.dive_org.wav', '2.08_audio.interview_42_10.wav', '1.84_audio.sports1_7.wav', '2.96_audio.woman_talking_1_2.wav', '3.21_audio.bike_2.wav', '3.88_audio.dance_22_2.wav', '4.32_audio.bull_2_7.wav', '2.56_audio.interview_42_7.wav', '1.96_audio.chair_basketball_4.wav', '4.21_audio.interview_71_2.wav', '2.92_audio.ship_1_2.wav', '3.16_audio.interview_10_9.wav', '4.64_audio.boat_1_2.wav', '4.72_audio.street_dance_2_3.wav', '2.21_audio.boxing_2_3.wav', '1.76_audio.train_1_3.wav', '3.32_audio.home_video_7_10.wav', '4.84_audio.nature_72_2.wav', '2.00_audio.kid_1_4.wav', '3.12_audio.child_playing1_6.wav', '4.41_audio.animation_2_6.wav', '2.32_audio.dance_91_7.wav', '1.00_audio.news_2_7.wav', '2.20_audio.music_13_4.wav', '4.08_audio.street_dance_2_2.wav', '4.32_audio.street_dance_org1.wav', '4.41_audio.inetrview_52_2.wav', '3.00_audio.music_22_3.wav', '1.76_audio.music_13_6.wav', '4.08_audio.tie_tut_org1.wav', '3.41_audio.bike_6.wav', '3.96_audio.interview_41_9.wav', '2.96_audio.street_dance_2_1.wav', '3.76_audio.dive_5.wav', '2.56_audio.music_41_8.wav', '4.82_audio.home_6_5.wav', '4.12_audio.inetrview_52_1.wav', '4.76_audio.music_21_2.wav', '2.78_audio.interview_81_3.wav', '2.08_audio.ship_1_1.wav', '4.82_audio.dance_91_2.wav', '3.28_audio.woman_talking_1_3.wav', '4.72_audio.car_1_5.wav', '4.72_audio.animation_2_8.wav', '2.84_audio.street_show_2_2.wav', '2.81_audio.chair_basketball_8.wav', '2.16_audio.interview_81_6.wav', '4.83_audio.animation_org_230.wav', '3.21_audio.interview_21_7.wav', '5.00_audio.travel_org6.wav', '2.20_audio.nature_42_8.wav', '2.96_audio.childrendance_1_3.wav', '4.88_audio.nature_15_10.wav', '4.23_audio.interview_org21.wav', '3.92_audio.basketball_2.wav', '4.82_audio.home_video_org8.wav', '2.44_audio.animation_72_6.wav', '4.41_audio.interview_71_8.wav', '1.96_audio.interview_100_3.wav', '3.44_audio.basketball_5.wav', '1.88_audio.wine_1_3.wav', '4.32_audio.walkway_org_1.wav', '4.32_audio.wine_1_2.wav', '2.40_audio.friends_1_3.wav', '1.00_audio.music_63_1.wav', '4.32_audio.interview_41_4.wav', '1.92_audio.tie_tut_1_4.wav', '2.88_audio.exercise_1_9.wav', '2.18_audio.bull_1_6.wav', '1.64_audio.nature_42_6.wav', '1.92_audio.train_4_4.wav', '1.68_audio.music_52_4.wav', '1.84_audio.music_13_7.wav', '2.20_audio.interview_21_10.wav', '4.11_audio.interview_10_5.wav', '2.20_audio.boxing_2_4.wav', '4.92_audio.animation_org3_1.wav', '4.84_audio.recipe_1_6.wav', '4.92_audio.song_org_4_1.wav', '3.16_audio.nature_72_8.wav', '4.82_audio.girls_song_7.wav', '4.21_audio.animation_3_9.wav', '3.12_audio.home_video3_2.wav', '4.00_audio.agriculture_1_5.wav', '4.76_audio.kid_1_8.wav', '2.32_audio.girls_dance1_3.wav', '1.88_audio.desert_bike_4.wav', '3.20_audio.walkway_1_5.wav', '1.72_audio.sports1_8.wav', '4.81_audio.boxing_1_2.wav', '4.82_audio.friends_1_1.wav', '3.32_audio.music_83_5.wav', '3.21_audio.home_video_5_6.wav', '4.76_audio.news_org_2.wav', '1.92_audio.train_1_8.wav', '3.12_audio.nature_42_3.wav', '4.04_audio.interview_org22.wav', '2.01_audio.wine_1_6.wav', '4.84_audio.nature_15_4.wav', '2.32_audio.car_1_9.wav', '2.44_audio.interview_31_9.wav', '4.76_audio.animation_1_2.wav', '2.36_audio.music_31_6.wav', '3.32_audio.street_dance_2_9.wav', '2.92_audio.street_show_2_8.wav', '1.76_audio.train_2_7.wav', '3.20_audio.dive_8.wav', '2.28_audio.boat_1_4.wav', '4.36_audio.music_org6_3.wav', '1.92_audio.music_22_1.wav', '4.32_audio.street_dance_1_2.wav', '2.28_audio.child_playing1_8.wav', '4.81_audio.boy_dance_org2.wav', '2.46_audio.home_6_4.wav', '4.72_audio.home_video_org4.wav', '2.40_audio.interview_22_7.wav', '4.72_audio.agriculture_2_3.wav', '4.81_audio.boy_dance_org3_1.wav', '1.84_audio.basketball_7.wav', '4.81_audio.dance_91_5.wav', '3.41_audio.boy_speaking_org_3_2.wav', '2.40_audio.interview_100_6.wav', '4.08_audio.nature_org4_2.wav', '4.96_audio.travel_org5.wav', '3.12_audio.streetwalk_1_9.wav', '1.53_audio.people_rush_1_10.wav', '4.82_audio.girl_nature_org_3.wav', '3.42_audio.music_13_9.wav', '2.76_audio.home_video_5_10.wav', '3.16_audio.interview_81_2.wav', '4.44_audio.boy_speaking_org1_1.wav', '4.83_audio.animation_8_2.wav', '1.84_audio.animation_230_2.wav', '4.24_audio.animation_1_8.wav', '4.72_audio.music_61_6.wav', '2.81_audio.street_dance_1_4.wav', '4.32_audio.bull_org1.wav', '4.41_audio.wine_org_1.wav', '1.84_audio.interview_71_4.wav', '3.12_audio.train_3_5.wav', '2.12_audio.interview_10_2.wav', '3.88_audio.music_83_2.wav', '2.60_audio.street_dance_2_10.wav', '4.76_audio.travel_org9.wav', '2.88_audio.run_1_3.wav', '2.42_audio.boxing_3_6.wav', '2.44_audio.people_rush_1_2.wav', '3.04_audio.field_org_2_2.wav', '4.32_audio.home_video_9_2.wav', '4.92_audio.travel_org1.wav', '3.21_audio.animation92_6.wav', '4.88_audio.chair_basketball_10.wav', '3.04_audio.music_31_8.wav', '4.32_audio.interview_51_7.wav', '5.00_audio.guitar_org3.wav', '4.36_audio.child_playing1_3.wav', '3.01_audio.street_show__3_3.wav', '4.08_audio.music_org8_3.wav', '4.72_audio.bull_org2.wav', '2.04_audio.people_rush_1_9.wav', '4.16_audio.dance_21_2.wav', '3.84_audio.streetwalk_1_6.wav', '2.76_audio.dive_2.wav', '2.24_audio.home_video_4_1.wav', '3.70_audio.interview_51_3.wav', '3.32_audio.bull_1_1.wav', '2.88_audio.animation_8_6.wav', '3.12_audio.home_video3_9.wav', '4.68_audio.random_org3.wav', '4.04_audio.interview_org31.wav', '2.72_audio.street_dance_2_6.wav', '2.18_audio.interview_100_10.wav', '1.96_audio.music_12_4.wav', '4.72_audio.bike_22_2.wav', '2.40_audio.song_org_3_3.wav', '4.88_audio.travel_org5_1.wav', '3.76_audio.interview_91_2.wav', '2.08_audio.carpenter_1_4.wav', '2.20_audio.home_video_5_7.wav', '3.12_audio.dance_22_6.wav', '2.21_audio.home_video_7_7.wav', '4.92_audio.animation_org1_2.wav', '2.20_audio.nature_112_9.wav', '3.88_audio.bull_2_3.wav', '3.96_audio.interview_31_2.wav', '4.68_audio.news_2_6.wav', '2.32_audio.boxing_2_1.wav', '2.44_audio.bike_22_4.wav', '2.01_audio.kid_1_7.wav', '1.76_audio.dance_21_7.wav', '4.12_audio.music_52_10.wav', '2.32_audio.girls_song_9.wav', '1.76_audio.interview_21_6.wav', '4.88_audio.news_2_2.wav', '3.81_audio.animation_12_8.wav', '3.32_audio.animation_12_1.wav', '4.82_audio.interview_11_7.wav', '3.01_audio.interview_81_5.wav', '3.22_audio.home_video_8_8.wav', '4.82_audio.guitar_org4_1.wav', '3.41_audio.girls_song_6.wav', '4.24_audio.train_org4.wav', '4.00_audio.boy_speaking_org_3.wav', '4.76_audio.music_71_5.wav', '3.11_audio.girl_nature_org_1_2.wav', '2.20_audio.girls_song_8.wav', '1.92_audio.agriculture_1_9.wav', '2.92_audio.interview_51_6.wav', '3.02_audio.train_org3.wav', '4.92_audio.guitar_org5.wav', '4.12_audio.basketball_1.wav', '3.32_audio.street_dance_1_3.wav', '4.12_audio.nature_42_5.wav', '1.88_audio.interview_91_7.wav', '2.44_audio.news_1_9.wav', '2.40_audio.nature_15_8.wav', '4.41_audio.home_6_7.wav', '4.88_audio.bull_1_2.wav', '4.32_audio.agriculture_2_8.wav', '1.84_audio.interview_51_2.wav', '4.72_audio.street_danceorg2.wav', '4.92_audio.travel_org10_1.wav', '3.04_audio.interview_22_9.wav', '4.96_audio.travel_org10.wav', '3.41_audio.basketball_9.wav', '3.56_audio.animation_8_9.wav', '5.00_audio.interview_org41.wav', '2.12_audio.dance_92_4.wav', '4.08_audio.interview_org91.wav', '3.81_audio.animation_2_3.wav', '4.92_audio.childrendance_org2.wav', '4.16_audio.dance_21_9.wav', '2.88_audio.street_show_2_7.wav', '3.08_audio.interview_111_7.wav', '3.21_audio.home_video_8_4.wav', '4.84_audio.song_org_2_1.wav', '4.32_audio.interview_71_5.wav', '3.08_audio.music_51_9.wav', '3.24_audio.home_6_10.wav', '4.08_audio.interview_42_2.wav', '4.72_audio.girl_nature_org_1.wav', '2.32_audio.child_playing1_10.wav', '4.84_audio.kid_1_5.wav', '3.04_audio.bike_9.wav', '4.81_audio.childrendance_2_8.wav', '4.54_audio.music_21_10.wav', '3.32_audio.home_video3_3.wav', '4.00_audio.interview_51_5.wav', '4.12_audio.interview_41_8.wav', '3.12_audio.wine_1_4.wav', '4.08_audio.street_dance_1_8.wav', '3.12_audio.music_12_8.wav', '4.28_audio.animation92_2.wav', '4.72_audio.travel_org6_2.wav', '4.24_audio.music_org3_1.wav', '2.20_audio.news_2_9.wav', '3.12_audio.home_video_7_5.wav', '4.16_audio.interview_71_3.wav', '4.72_audio.home_video_4_5.wav', '2.08_audio.street_show__3_1.wav', '2.20_audio.woman_talking_1_10.wav', '3.88_audio.interview_51_1.wav', '3.28_audio.interview_100_5.wav', '4.82_audio.travel_org7.wav', '1.84_audio.train_1_10.wav', '4.92_audio.animation_org92_1.wav', '3.72_audio.interview_81_7.wav', '3.01_audio.interview_71_6.wav', '4.36_audio.interview_org111.wav', '3.01_audio.nature_112_10.wav', '4.41_audio.music_org13.wav', '2.72_audio.agriculture_1_10.wav', '1.88_audio.bull_2_10.wav', '2.40_audio.animation_230_8.wav', '2.42_audio.interview_11_5.wav', '4.88_audio.boy_dance_org2_1.wav', '4.88_audio.travel_org8_2.wav', '4.50_audio.music_21_5.wav', '3.84_audio.tunnel_org1.wav', '2.96_audio.street_show_1_6.wav', '4.16_audio.nature_15_3.wav', '3.12_audio.exercise_org1.wav', '4.72_audio.group_song_org_1.wav', '4.00_audio.animation_230_5.wav', '4.32_audio.interview_11_10.wav', '2.04_audio.animation_12_9.wav', '4.41_audio.music_org1_2.wav', '4.02_audio.music_52_5.wav', '4.92_audio.girl_interview_org_2_2.wav', '2.16_audio.animation92_10.wav', '4.04_audio.drama_org_1_1.wav', '4.84_audio.recipe_org1.wav', '2.32_audio.dance_92_6.wav', '3.52_audio.kid_1_9.wav', '4.11_audio.home_video_8_10.wav', '4.72_audio.music_21_4.wav', '4.76_audio.music_22_10.wav', '2.32_audio.home_video_9_6.wav', '2.28_audio.home_video_9_7.wav', '4.72_audio.boat_1_5.wav', '2.68_audio.nature_42_4.wav', '3.20_audio.tunnel_10.wav', '3.96_audio.travel_org13_2.wav', '1.68_audio.dance_21_1.wav', '4.72_audio.bike_org22.wav', '1.84_audio.music_51_3.wav', '4.88_audio.travel_org7_1.wav', '2.12_audio.nature_42_7.wav', '4.21_audio.bull_1_5.wav', '1.76_audio.traffic_1_6.wav', '4.81_audio.boat_org1_1.wav', '4.92_audio.boxing_3_1.wav', '2.42_audio.dance_92_8.wav', '4.72_audio.girl_nature_org_2.wav', '4.41_audio.dance_org92.wav', '4.82_audio.travel_org9_1.wav', '4.21_audio.street_dance_2_5.wav', '2.32_audio.agriculture_1_8.wav', '4.04_audio.interview_61_4.wav', '4.76_audio.animation_9_2.wav', '2.20_audio.dance_22_7.wav', '2.44_audio.news_1_4.wav', '4.92_audio.travel_org9_2.wav', '2.32_audio.nature_72_7.wav', '3.16_audio.music_51_8.wav', '3.08_audio.bull_2_5.wav', '3.22_audio.home_video_7_2.wav', '3.88_audio.music_51_5.wav', '4.21_audio.animation_72_4.wav', '4.92_audio.girls_song_org.wav', '3.20_audio.drama_org_1_2.wav', '1.92_audio.train_4_1.wav', '4.16_audio.agriculture_1_2.wav', '4.41_audio.kid_org1.wav', '4.96_audio.music_63_10.wav', '3.88_audio.bike_1.wav', '2.16_audio.home_video_5_4.wav', '2.04_audio.nature_192_10.wav', '3.08_audio.home_video_5_3.wav', '4.32_audio.children_org_1_2.wav', '3.48_audio.nature_15_5.wav', '3.08_audio.street_show_1_3.wav', '1.68_audio.train_4_2.wav', '3.42_audio.traffic_org1.wav', '2.84_audio.girls_dance1_5.wav', '4.92_audio.travel_org8_1.wav', '4.84_audio.animation_230_1.wav', '3.04_audio.boat_1_6.wav', '4.96_audio.travel_org2.wav', '2.21_audio.wine_1_10.wav', '1.96_audio.interview_22_4.wav', '2.80_audio.music_41_5.wav', '1.32_audio.carpenter_1_1.wav', '3.41_audio.animation_12_4.wav', '3.92_audio.tie_tut_1_1.wav', '4.92_audio.travel_org2_2.wav', '4.81_audio.travel_org12_1.wav', '4.76_audio.girls_song_1.wav', '3.20_audio.animation_12_6.wav', '3.92_audio.random_org1_1.wav', '2.04_audio.agriculture_2_2.wav', '3.96_audio.street_dance_1_6.wav', '3.92_audio.inetrview_52_5.wav', '4.88_audio.field_org_2.wav', '4.76_audio.girls_song_5.wav', '2.08_audio.news_1_6.wav', '1.32_audio.animation_8_1.wav', '1.40_audio.bike_4.wav', '1.32_audio.boxing_3_8.wav', '1.08_audio.streetwalk_1_10.wav', '3.14_audio.street_show_1_1.wav', '1.08_audio.streetwalk_1_1.wav', '1.41_audio.girls_dance1_1.wav', '1.08_audio.interview_111_4.wav', '1.32_audio.agriculture_2_1.wav', '1.32_audio.music_13_1.wav', '1.32_audio.animation_9_9.wav', '1.32_audio.agriculture_2_10.wav', '1.16_audio.interview_100_1.wav', '1.20_audio.news_1_10.wav', '1.21_audio.interview_100_9.wav', '1.40_audio.desert_bike_5.wav', '1.16_audio.boxing_1_6.wav', '1.41_audio.home_video_7_6.wav', '1.02_audio.home_video_7_1.wav', '1.20_audio.bike_22_6.wav', '1.24_audio.home_video_4_8.wav', '1.08_audio.music_71_8.wav', '1.08_audio.interview_100_7.wav', '1.32_audio.boxing_3_3.wav', '1.24_audio.boxing_1_3.wav', '1.28_audio.animation_72_3.wav', '1.16_audio.recipe_1_8.wav', '1.08_audio.train_2_10.wav', '1.16_audio.tie_tut_1_2.wav', '1.32_audio.music_12_10.wav', '1.32_audio.walkway_1_6.wav', '1.24_audio.news_1_1.wav', '1.16_audio.music_83_7.wav', '1.24_audio.agriculture_1_7.wav', '1.08_audio.interview_31_10.wav', '1.04_audio.interview_100_4.wav', '1.08_audio.train_1_4.wav', '1.24_audio.girls_dance1_4.wav', '1.32_audio.animation_230_6.wav', '1.28_audio.music_71_7.wav', '1.20_audio.carpenter_1_2.wav', '1.08_audio.music_51_7.wav', '1.00_audio.tie_tut_1_5.wav', '1.32_audio.boat_1_9.wav', '1.16_audio.woman_talking_1_1.wav', '1.40_audio.tunnel_5.wav', '1.16_audio.bull_1_3.wav', '1.24_audio.people_rush_1_8.wav', '1.24_audio.home_video_7_9.wav', '1.24_audio.music_41_1.wav', '1.20_audio.interview_41_5.wav', '1.32_audio.childrendance_2_7.wav', '1.24_audio.music_71_1.wav', '1.16_audio.train_3_3.wav', '1.16_audio.home_video_9_4.wav', '1.08_audio.dance_92_9.wav', '3.24_audio.interview_31_1.wav', '1.20_audio.animation92_7.wav', '1.36_audio.music_52_1.wav', '1.20_audio.exercise_1_7.wav', '1.16_audio.carpenter_1_10.wav', '1.24_audio.walkway_1_1.wav', '1.24_audio.music_41_4.wav', '1.12_audio.girls_dance1_9.wav', '1.40_audio.music_22_4.wav', '1.12_audio.exercise_1_10.wav', '1.08_audio.train_4_3.wav', '1.32_audio.street_show_1_10.wav', '1.28_audio.interview_51_9.wav', '1.08_audio.interview_22_1.wav', '1.08_audio.tunnel_9.wav', '1.32_audio.tie_tut_1_7.wav', '1.12_audio.interview_21_2.wav', '1.12_audio.friends_1_9.wav', '1.40_audio.interview_61_9.wav', '1.16_audio.nature_13_5.wav', '1.08_audio.train_4_10.wav', '1.20_audio.girls_dance1_10.wav', '1.36_audio.home_video_8_9.wav', '1.24_audio.agriculture_2_9.wav', '1.40_audio.nature_192_5.wav', '1.32_audio.nature_13_8.wav', '1.00_audio.ship_1_7.wav', '1.32_audio.music_31_4.wav', '1.16_audio.street_show_2_3.wav', '3.00_audio.street_show__3_7.wav', '1.32_audio.interview_31_3.wav', '1.08_audio.street_show_1_8.wav', '1.24_audio.nature_192_2.wav', '1.28_audio.basketball_10.wav', '1.20_audio.interview_41_10.wav', '1.24_audio.nature_13_1.wav', '1.32_audio.music_22_7.wav', '1.00_audio.nature_42_9.wav', '1.40_audio.walkway_1_9.wav', '1.24_audio.childrendance_2_4.wav', '1.40_audio.home_video_9_1.wav', '1.08_audio.recipe_1_9.wav', '1.08_audio.traffic_1_10.wav', '1.16_audio.agriculture_2_7.wav', '1.12_audio.interview_41_2.wav', '1.00_audio.people_rush_1_1.wav', '1.08_audio.street_show_2_6.wav', '1.00_audio.music_83_1.wav', '1.08_audio.nature_13_10.wav', '1.36_audio.travel_org8_3.wav', '1.32_audio.traffic_1_8.wav', '1.40_audio.dance_91_8.wav', '1.08_audio.street_show_2_10.wav', '1.32_audio.animation_2_9.wav', '1.36_audio.animation_3_8.wav', '2.00_audio.traffic_1_3.wav', '1.16_audio.child_playing1_7.wav', '1.12_audio.dive_1.wav', '1.16_audio.nature_15_6.wav', '1.32_audio.animation_8_7.wav', '1.16_audio.music_41_6.wav', '1.08_audio.nature_192_3.wav', '1.36_audio.song_org_4_3.wav', '1.24_audio.tie_tut_1_9.wav', '1.36_audio.girls_dance1_6.wav', '1.16_audio.nature_15_9.wav', '1.21_audio.desert_bike_3.wav', '1.41_audio.animation_2_7.wav', '1.24_audio.tunnel_7.wav', '1.24_audio.traffic_1_4.wav', '1.12_audio.home_video_7_3.wav', '1.00_audio.interview_22_3.wav', '1.08_audio.street_dance_1_10.wav', '2.48_audio.bike_22_9.wav', '1.40_audio.nature_72_1.wav', '1.24_audio.boxing_2_6.wav', '4.22_audio.home_video_5_8.wav', '3.98_audio.dance_22_5.wav', '4.80_audio.animation_9_5.wav', '3.25_audio.interview_41_7.wav', '5.00_audio.animation_72_8.wav', '4.81_audio.kid_1_2.wav', '4.88_audio.music_83_10.wav', '4.37_audio.animation_12_3.wav', '1.58_audio.train_3_8.wav', '3.02_audio.run_1_9.wav', '4.28_audio.carpenter_1_6.wav', '4.88_audio.animation_8_5.wav', '4.76_audio.interview_10_7.wav', '3.02_audio.desert_bike_1.wav', '3.64_audio.music_52_2.wav', '4.81_audio.interview_42_1.wav', '4.72_audio.friends_1_2.wav', '4.00_audio.interview_10_3.wav', '4.64_audio.street_dance_1_5.wav', '4.68_audio.interview_11_2.wav', '4.79_audio.snow_org_2.wav', '4.94_audio.nature_72_5.wav', '2.72_audio.street_dance_1_9.wav', '1.88_audio.car_1_8.wav', '4.81_audio.music_22_6.wav', '3.81_audio.news_1_3.wav', '2.56_audio.dance_92_10.wav', '4.58_audio.boat_1_1.wav', '4.82_audio.music_61_5.wav', '5.00_audio.animation_org2_1.wav', '4.58_audio.animation_2_2.wav', '3.40_audio.interview_31_6.wav', '4.33_audio.woman_talking_1_6.wav', '4.12_audio.home_video_9_5.wav', '4.72_audio.home_video_8_7.wav', '2.50_audio.people_rush_1_5.wav', '4.94_audio.nature_112_2.wav', '3.98_audio.child_playing1_5.wav', '5.00_audio.animation_org9_1.wav', '4.67_audio.music_61_10.wav', '2.11_audio.news_2_4.wav', '4.57_audio.recipe_1_3.wav', '3.88_audio.bull_1_4.wav', '3.11_audio.run_1_5.wav', '2.35_audio.run_1_8.wav', '4.02_audio.chair_basketball_2.wav', '4.80_audio.music_13_8.wav', '4.91_audio.travel_org11_2.wav', '2.98_audio.interview_111_8.wav', '4.02_audio.childrendance_1_8.wav', '3.91_audio.travel_org12_2.wav', '4.86_audio.boy_speaking_org_1.wav', '3.51_audio.music_41_10.wav', '3.12_audio.music_41_3.wav', '4.58_audio.animation_3_2.wav', '2.62_audio.music_22_9.wav', '2.53_audio.train_3_2.wav', '5.00_audio.boxing_org1_1.wav', '4.82_audio.home_video_org9.wav', '4.74_audio.girls_song_3.wav', '4.68_audio.dance_92_5.wav', '4.46_audio.streetwalk_1_8.wav', '4.92_audio.interview_41_1.wav', '4.10_audio.music_41_2.wav', '5.00_audio.animation_9_8.wav', '4.00_audio.run_1_2.wav', '4.33_audio.streetwalk_1_2.wav', '4.85_audio.interview_61_1.wav', '4.68_audio.carpenter_1_8.wav', '4.65_audio.nature_org1_1.wav', '4.28_audio.woman_talking_1_5.wav', '4.70_audio.interview_21_3.wav', '2.12_audio.bull_2_2.wav', '4.44_audio.chair_basketball_5.wav', '4.85_audio.streetwalk_org1.wav']\n",
            "2075\n"
          ]
        }
      ],
      "source": [
        "#run\n",
        "import os\n",
        "from scipy.io import wavfile\n",
        "\n",
        "from spafe.utils import vis\n",
        "from spafe.features.lfcc import lfcc\n",
        "from spafe.features.pncc import pncc\n",
        "\n",
        "Main_folder=\"/content/drive/MyDrive/DatabaseDistorted\"\n",
        "dataset_path=\"/content/drive/MyDrive/DatabaseDistorted/tii_is_changed_mos1/\"\n",
        "folder_content=(os.listdir(dataset_path))\n",
        "print(folder_content)\n",
        "print(len(folder_content))\n"
      ]
    },
    {
      "cell_type": "code",
      "execution_count": null,
      "metadata": {
        "id": "8ilTL6D65Lur"
      },
      "outputs": [],
      "source": [
        "#run\n",
        "from spafe.features.bfcc import bfcc\n",
        "from spafe.features.lpc import lpc, lpcc\n",
        "from spafe.features.gfcc import gfcc\n",
        "\n",
        "def chroma_cqt_simple_mean_feature(audio, sample_rate):\n",
        "  C=librosa.feature.chroma_cqt(y=audio, sr=sample_rate)\n",
        "  C_mean = np.mean(C.T,axis=0)\n",
        "  print(\"size of chroma_cqt_simple_mean_feature\", C_mean.shape)\n",
        "\n",
        "  return C_mean;\n",
        "\n",
        "\n",
        "def melspectrogram_mean_feature(audio, sample_rate):\n",
        "  C=librosa.feature.melspectrogram(y=audio, sr=sample_rate)\n",
        "  C_mean = np.mean(C.T,axis=0)\n",
        "  print(\"size of melspectrogram_mean_feature\", C_mean.shape)\n",
        "  return  C_mean;\n",
        "\n",
        "#MFCC\n",
        "def mfcc_simple_mean_feature(audio, sample_rate ):\n",
        "    mfccs_features = librosa.feature.mfcc(y=audio, sr=sample_rate, n_mfcc=40)\n",
        "    mfccs_scaled_features = np.mean(mfccs_features.T,axis=0)\n",
        "    print(\"size of mfcc_simple_mean_feature\", mfccs_scaled_features.shape)\n",
        "    return mfccs_scaled_features\n",
        "\n",
        "\n",
        "def spectral_contrast_mean_feature(audio, sample_rate ):\n",
        "    S = np.abs(librosa.stft(audio))\n",
        "    contrast = librosa.feature.spectral_contrast(S=S, sr=sample_rate)\n",
        "    print(\"size of spectral_contrast_mean_feature\", contrast.shape)\n",
        "    return np.mean(contrast, axis=0)\n",
        "\n",
        "def spectral_centroid_mean_feature(audio, sample_rate):\n",
        "    cent = librosa.feature.spectral_centroid(y=audio, sr=sample_rate)\n",
        "    print(\"size of spectral_centroid_mean_feature\", cent.shape)\n",
        "    return np.mean(cent, axis=0)\n",
        "\n",
        "#pncc\n",
        "def pncc_simple_mean_feature(audio, sample_rate):\n",
        "  C=pncc(sig=audio, fs=sample_rate);\n",
        "  C_mean = np.mean(C,axis=0)\n",
        "  print(\"size of pncc_simple_mean_feature\", C_mean.shape)\n",
        "  return C_mean;\n",
        "\n"
      ]
    },
    {
      "cell_type": "code",
      "execution_count": null,
      "metadata": {
        "id": "BBBeVRBi5Xi4"
      },
      "outputs": [],
      "source": [
        "# feature_names=[\"mfcc_simple_mean\" , \"chroma_simple_mean\", \"mel_simple_mean\"]\n",
        "feature_names=[\"spectral_centroid_mean_feature\"]"
      ]
    },
    {
      "cell_type": "code",
      "execution_count": null,
      "metadata": {
        "id": "TSiyBST05Xlb"
      },
      "outputs": [],
      "source": [
        "# #Reading audio file  names and labels\n",
        "# metadata=pd.read_csv(dataset_path+\"seen_unseen_labels.csv\")\n",
        "# metadata.head()"
      ]
    },
    {
      "cell_type": "code",
      "execution_count": null,
      "metadata": {
        "id": "wuP-E3BE5XqH"
      },
      "outputs": [],
      "source": [
        "#run after changing path to the directory containg audios whose features need to be extracted\n",
        "Files = os.listdir(\"/content/drive/MyDrive/DatabaseDistorted/tii_is_changed_mos1/\")"
      ]
    },
    {
      "cell_type": "code",
      "execution_count": null,
      "metadata": {
        "colab": {
          "base_uri": "https://localhost:8080/"
        },
        "id": "xMkrYPRn-d0D",
        "outputId": "3269ac41-e01e-4e58-df59-64ddfda7c2a7"
      },
      "outputs": [],
      "source": [
        "print(len(Files),Files)"
      ]
    },
    {
      "cell_type": "code",
      "execution_count": null,
      "metadata": {
        "colab": {
          "base_uri": "https://localhost:8080/"
        },
        "id": "mWVopeuX-dxe",
        "outputId": "851fdbc3-36f7-4f99-8719-c81704bde57f"
      },
      "outputs": [],
      "source": [
        "# for i in Files:\n",
        "#   if \"Output\" in i:\n",
        "#     print(i)\n",
        "#     Files.remove(i)\n",
        "# print(Files)"
      ]
    },
    {
      "cell_type": "code",
      "execution_count": null,
      "metadata": {
        "colab": {
          "base_uri": "https://localhost:8080/"
        },
        "id": "EdslUsOu-du8",
        "outputId": "fd60c27f-6831-402b-eb99-171a0fd2dd7f"
      },
      "outputs": [],
      "source": [
        "#run\n",
        "from collections import defaultdict\n",
        "\n",
        "#SAVING AUDIO FILES IN CSV\n",
        "\n",
        "def read_audio_clip(file_name):\n",
        "    print(file_name)\n",
        "    audio,sample_rate = librosa.load(file_name) \n",
        "    return audio, sample_rate\n",
        "\n",
        "Features = defaultdict(list);\n",
        "import time\n",
        "st = time.time()\n",
        "for i in range(0,len(Files)): \n",
        "    print(\"file no:\",i)    \n",
        "    file_name = dataset_path+Files[i]\n",
        "    print(\"file_name\",file_name)\n",
        "    quality = float(Files[i][:4]) #add quality score\n",
        "    audio, sample_rate=read_audio_clip(file_name)\n",
        "    if(i%100 == 0):\n",
        "      print('{} data files have been read'.format(i))\n",
        "    # print(i)\n",
        "    # print(len(audio))\n",
        "    # print(sample_rate)\n",
        "   \n",
        "    Features['mfcc_simple_mean_new'].append([ mfcc_simple_mean_feature(audio, sample_rate ), quality]);\n",
        "    Features[\"chroma_cqt_simple_mean_new\"].append([chroma_cqt_simple_mean_feature(audio, sample_rate), quality]);\n",
        "    Features[ \"melspectogram_mean_new\" ].append([ melspectrogram_mean_feature(audio, sample_rate ), quality]);\n",
        "\n",
        "    # Features['pncc_simple_mean'].append([ pncc_simple_mean_feature(audio, sample_rate ), quality]);\n",
        "    #Features['lpc_simple_mean'].append([lpc_simple_mean_feature(audio, sample_rate), quality]);\n",
        "    #Features[\"lpcc_simple_mean\"].append([lpcc_simple_mean_feature(audio, sample_rate), quality]);\n",
        "    # Features['spectral_contrast_mean'].append([spectral_contrast_mean_feature(audio, sample_rate), quality]);\n",
        "    # Features[\"spectral_centroid_mean\"].append([ spectral_centroid_mean_feature(audio, sample_rate ), quality]);\n",
        "\n",
        "print(\"Feature generation phase complete\")\n",
        "end = time.time()\n",
        "print((end-st)/len(Files))\n"
      ]
    },
    {
      "cell_type": "code",
      "execution_count": null,
      "metadata": {
        "colab": {
          "base_uri": "https://localhost:8080/"
        },
        "id": "ZNt1yO2KBHYv",
        "outputId": "4e15f624-6800-4592-b71f-6520060ab0d2"
      },
      "outputs": [
        {
          "name": "stdout",
          "output_type": "stream",
          "text": [
            "mfcc_simple_mean_new\n",
            "2075\n",
            "chroma_cqt_simple_mean_new\n",
            "2075\n",
            "melspectogram_mean_new\n",
            "2075\n"
          ]
        }
      ],
      "source": [
        "#run\n",
        "\n",
        "feature_names=[\"mfcc_simple_mean_new\", \"chroma_cqt_simple_mean_new\",\"melspectogram_mean_new\"]\n",
        "for fn in feature_names:\n",
        "   print(fn)\n",
        "   print(len(Features[fn]))\n",
        "   #print(Features[fn])"
      ]
    },
    {
      "cell_type": "code",
      "execution_count": null,
      "metadata": {
        "colab": {
          "base_uri": "https://localhost:8080/"
        },
        "id": "aUFQYkS7ODA8",
        "outputId": "99df0752-f753-4018-d6eb-70c020f1b630"
      },
      "outputs": [],
      "source": [
        "#run\n",
        "from pathlib import Path  \n",
        "feature_storage_folder = \"/content/drive/MyDrive/DatabaseDistorted/final_tii_all_finaldata/\"+'features/';\n",
        "\n",
        "# fn= 'melspectogram_mean_new';\n",
        "# fn= \"chroma_cqt_simple_mean_new\";\n",
        "# fn= \"mfcc_simple_mean_new\";\n",
        "fn= \"spectral_centroid_mean\";\n",
        "\n",
        "extracted_features_df=pd.DataFrame(Features[fn],columns=['feature','class'])\n",
        "extracted_features_df.shape\n",
        "print(extracted_features_df.feature[1])\n",
        "\n",
        "# del Features[fn]\n",
        "\n",
        "#print(extracted_features_df.head(10))\n",
        "\n",
        "feature_list = extracted_features_df['feature'].tolist()\n",
        "class_list = extracted_features_df['class'].tolist()\n",
        "\n",
        "new_df = pd.DataFrame(feature_list)\n",
        "new_df['class'] = class_list\n",
        "#print(new_df.head(10))\n",
        "\n",
        "feature_filepath=Path(feature_storage_folder+fn+\"dm_2075.csv\")  # change 998 to length of the data set just to differetiate feature according to the dataset\n",
        "feature_filepath.parent.mkdir(parents=True, exist_ok=True)  \n",
        "new_df.to_csv(feature_filepath) \n",
        "print(fn , \" csv writing complete\")\n"
      ]
    },
    {
      "cell_type": "code",
      "execution_count": null,
      "metadata": {
        "colab": {
          "base_uri": "https://localhost:8080/"
        },
        "id": "4YG9KpjaTGpX",
        "outputId": "f5823c7d-5d06-4159-c508-cf6403829429"
      },
      "outputs": [],
      "source": [
        "fd1 = pd.read_csv(\"/content/drive/MyDrive/DatabaseDistorted/final_tii_all_finaldata/features/mfcc_simple_mean_newdm_2075.csv\")\n",
        "print(fd1.shape)\n",
        "fd1 = fd1.dropna(axis=1)\n",
        "c = fd1['class']\n",
        "fd1 = fd1.drop(['Unnamed: 0', 'class'], axis=1)\n",
        "print(fd1.shape)\n"
      ]
    },
    {
      "cell_type": "code",
      "execution_count": null,
      "metadata": {
        "colab": {
          "base_uri": "https://localhost:8080/"
        },
        "id": "ThoOypG6TGmw",
        "outputId": "ef29b239-c3a6-4735-f732-fb2aa2b8aa9f"
      },
      "outputs": [],
      "source": [
        "fd2 = pd.read_csv(\"/content/drive/MyDrive/DatabaseDistorted/final_tii_all_finaldata/features/melspectogram_mean_newdm_2075.csv\")\n",
        "print(fd2.shape)\n",
        "fd2 = fd2.dropna(axis=1)\n",
        "c = fd2['class']\n",
        "fd2 = fd2.drop(['Unnamed: 0', 'class'], axis=1)\n",
        "print(fd2.shape)"
      ]
    },
    {
      "cell_type": "code",
      "execution_count": null,
      "metadata": {
        "colab": {
          "base_uri": "https://localhost:8080/"
        },
        "id": "k0MDPboPUb4y",
        "outputId": "919f6826-1bf9-4d08-aa23-8cdc1d981d7e"
      },
      "outputs": [],
      "source": [
        "fd3 = pd.read_csv(\"/content/drive/MyDrive/DatabaseDistorted/final_tii_all_finaldata/features/chroma_cqt_simple_mean_newdm_2075.csv\")\n",
        "print(fd3.shape)\n",
        "fd3 = fd3.dropna(axis=1)\n",
        "c = fd3['class']\n",
        "fd3 = fd3.drop(['Unnamed: 0', 'class'], axis=1)\n",
        "# fd2 = fd3.drop(['Unnamed: 0'], axis=1)\n",
        "print(fd3.shape)"
      ]
    },
    {
      "cell_type": "code",
      "execution_count": null,
      "metadata": {
        "colab": {
          "base_uri": "https://localhost:8080/"
        },
        "id": "U-TH88mfDiPm",
        "outputId": "d30b224f-04a0-4cd2-f6aa-1906633f7cd4"
      },
      "outputs": [],
      "source": [
        "#the audio clips have different outputs, thus take the minimum length equal to 212 in this case\n",
        "fd4 = pd.read_csv(\"/content/drive/MyDrive/DatabaseDistorted/final_tii_all_finaldata/features/spectral_centroid_meandm_2075.csv\")\n",
        "print(fd4.shape)\n",
        "fd4 = fd4.dropna(axis=1)\n",
        "c = fd4['class']\n",
        "fd4 = fd4.drop(['Unnamed: 0', 'class'], axis=1)\n",
        "print(fd4.shape)\n",
        "\n",
        "l = [str(i) for i in range(212)]\n",
        "# print(l)\n",
        "fd4.columns = l\n",
        "fd4['class']=c\n",
        "# fd4.to_csv(\"/content/drive/MyDrive/DatabaseDistorted/final_tii_all_finaldata/features/spectral_centroid_meandm_2075_200.csv\")"
      ]
    },
    {
      "cell_type": "code",
      "execution_count": null,
      "metadata": {
        "colab": {
          "base_uri": "https://localhost:8080/"
        },
        "id": "H_Fb5elHTz33",
        "outputId": "bfe44a2a-0c09-439d-bce3-b3a60f622089"
      },
      "outputs": [],
      "source": [
        "# fd2 = pd.read_csv(\"/content/drive/MyDrive/DatabaseDistorted/final_tii_all_finaldata/features/dm_2075_concatrnated3.csv\")\n",
        "\n",
        "# c = fd2['class']\n",
        "# fd2 = fd2.drop(['Unnamed: 0', 'class'], axis=1)\n",
        "\n",
        "finaldf = pd.concat([fd1, fd2, fd3,fd4], axis=1)\n",
        "print(finaldf.shape)\n",
        "finaldf = finaldf.drop([ 'class'], axis=1)\n",
        "print(finaldf.shape)\n",
        "\n",
        "# l = [str(i) for i in range(180)]\n",
        "l = [str(i) for i in range(392)]\n",
        "\n",
        "# print(l)\n",
        "finaldf.columns = l\n",
        "finaldf['class']=c\n",
        "finaldf.to_csv(\"/content/drive/MyDrive/DatabaseDistorted/final_tii_all_finaldata/features/2075_concatenate_dm_4featu.csv\")"
      ]
    },
    {
      "cell_type": "code",
      "execution_count": null,
      "metadata": {
        "id": "N2pXeaSFBHjx"
      },
      "outputs": [],
      "source": [
        "feature_names=[\"mfcc_simple_mean_new\"]\n",
        "new_df.to_csv(feature_filepath) "
      ]
    },
    {
      "cell_type": "code",
      "execution_count": null,
      "metadata": {
        "id": "d3kGoGHRBHly"
      },
      "outputs": [],
      "source": []
    }
  ],
  "metadata": {
    "colab": {
      "collapsed_sections": [],
      "name": "dm_features.ipynb",
      "provenance": []
    },
    "kernelspec": {
      "display_name": "Python 3",
      "name": "python3"
    },
    "language_info": {
      "name": "python"
    }
  },
  "nbformat": 4,
  "nbformat_minor": 0
}
